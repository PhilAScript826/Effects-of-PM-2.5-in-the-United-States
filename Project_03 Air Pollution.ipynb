{
 "cells": [
  {
   "cell_type": "markdown",
   "metadata": {},
   "source": [
    "## Import libraries"
   ]
  },
  {
   "cell_type": "code",
   "execution_count": 35,
   "metadata": {},
   "outputs": [],
   "source": [
    "import pandas as pd\n",
    "import numpy as np\n",
    "from IPython.display import display\n",
    "import matplotlib.pyplot as plt\n",
    "pd.set_option('display.max_rows', 500)\n",
    "pd.set_option('display.max_columns', 500)\n",
    "pd.set_option('display.width', 1000)\n",
    "import seaborn as sns\n",
    "from sklearn import preprocessing\n",
    "from sklearn import utils\n",
    "from sklearn.linear_model import LinearRegression\n",
    "from sklearn.neighbors import KNeighborsClassifier\n",
    "from sklearn.linear_model import LogisticRegression\n",
    "from sklearn.linear_model import LogisticRegressionCV\n",
    "from sklearn.model_selection import train_test_split\n",
    "from sklearn.metrics import precision_score, recall_score, precision_recall_curve,f1_score, fbeta_score\n",
    "from sklearn.metrics import roc_auc_score, roc_curve\n",
    "from sklearn.metrics import confusion_matrix\n",
    "from sklearn.preprocessing import StandardScaler\n",
    "from collections import OrderedDict\n",
    "from sklearn.tree import DecisionTreeClassifier\n",
    "from sklearn.svm import LinearSVC\n",
    "from sklearn.svm import SVC\n",
    "from sklearn.ensemble import RandomForestClassifier\n",
    "import xgboost as xgb\n",
    "from functools import reduce"
   ]
  },
  {
   "cell_type": "markdown",
   "metadata": {},
   "source": [
    "# Things to consider\n",
    "* Land density\n",
    "* Weather\n",
    "* Season\n",
    "* Race"
   ]
  },
  {
   "cell_type": "markdown",
   "metadata": {},
   "source": [
    "##  Read in Air Quality Measures CSV (Contains PM2.5 levels):"
   ]
  },
  {
   "cell_type": "code",
   "execution_count": 37,
   "metadata": {},
   "outputs": [],
   "source": [
    "df = pd.read_csv('Air_Quality_Measures_on_the_National_Environmental_Health_Tracking_Network.csv', encoding = \"'ISO-8859-1\")"
   ]
  },
  {
   "cell_type": "markdown",
   "metadata": {},
   "source": [
    "## Rename columns and Drop unneccessary ones (Do not re-run):"
   ]
  },
  {
   "cell_type": "code",
   "execution_count": 38,
   "metadata": {},
   "outputs": [],
   "source": [
    "df.rename(index=str, columns={\"CountyName\": \"County\", \"StateName\": \"State\",}, inplace=True)\n",
    "df.drop(['MeasureId','MeasureType', 'StratificationLevel', 'StateFips', 'CountyFips', 'Unit', 'UnitName', 'DataOrigin', 'MonitorOnly'], axis=1, inplace=True)"
   ]
  },
  {
   "cell_type": "code",
   "execution_count": 39,
   "metadata": {},
   "outputs": [
    {
     "data": {
      "text/plain": [
       "Index(['MeasureName', 'State', 'County', 'ReportYear', 'Value'], dtype='object')"
      ]
     },
     "execution_count": 39,
     "metadata": {},
     "output_type": "execute_result"
    }
   ],
   "source": [
    "#View Column Names\n",
    "df.columns"
   ]
  },
  {
   "cell_type": "markdown",
   "metadata": {},
   "source": [
    "## Change 'ReportYear' to date_time data type"
   ]
  },
  {
   "cell_type": "code",
   "execution_count": 40,
   "metadata": {},
   "outputs": [],
   "source": [
    "#Convert Year to Datetime Object\n",
    "df['ReportYear']=pd.to_datetime(df['ReportYear'], format='%Y')"
   ]
  },
  {
   "cell_type": "code",
   "execution_count": 41,
   "metadata": {},
   "outputs": [
    {
     "data": {
      "text/html": [
       "<div>\n",
       "<style scoped>\n",
       "    .dataframe tbody tr th:only-of-type {\n",
       "        vertical-align: middle;\n",
       "    }\n",
       "\n",
       "    .dataframe tbody tr th {\n",
       "        vertical-align: top;\n",
       "    }\n",
       "\n",
       "    .dataframe thead th {\n",
       "        text-align: right;\n",
       "    }\n",
       "</style>\n",
       "<table border=\"1\" class=\"dataframe\">\n",
       "  <thead>\n",
       "    <tr style=\"text-align: right;\">\n",
       "      <th></th>\n",
       "      <th>MeasureName</th>\n",
       "      <th>State</th>\n",
       "      <th>County</th>\n",
       "      <th>ReportYear</th>\n",
       "      <th>Value</th>\n",
       "    </tr>\n",
       "  </thead>\n",
       "  <tbody>\n",
       "    <tr>\n",
       "      <th>0</th>\n",
       "      <td>Number of days with maximum 8-hour average ozo...</td>\n",
       "      <td>Alabama</td>\n",
       "      <td>Clay</td>\n",
       "      <td>1999-01-01</td>\n",
       "      <td>33.0</td>\n",
       "    </tr>\n",
       "    <tr>\n",
       "      <th>1</th>\n",
       "      <td>Number of days with maximum 8-hour average ozo...</td>\n",
       "      <td>Alabama</td>\n",
       "      <td>Elmore</td>\n",
       "      <td>1999-01-01</td>\n",
       "      <td>5.0</td>\n",
       "    </tr>\n",
       "    <tr>\n",
       "      <th>2</th>\n",
       "      <td>Number of days with maximum 8-hour average ozo...</td>\n",
       "      <td>Alabama</td>\n",
       "      <td>Jefferson</td>\n",
       "      <td>1999-01-01</td>\n",
       "      <td>39.0</td>\n",
       "    </tr>\n",
       "    <tr>\n",
       "      <th>3</th>\n",
       "      <td>Number of days with maximum 8-hour average ozo...</td>\n",
       "      <td>Alabama</td>\n",
       "      <td>Lawrence</td>\n",
       "      <td>1999-01-01</td>\n",
       "      <td>28.0</td>\n",
       "    </tr>\n",
       "    <tr>\n",
       "      <th>4</th>\n",
       "      <td>Number of days with maximum 8-hour average ozo...</td>\n",
       "      <td>Alabama</td>\n",
       "      <td>Madison</td>\n",
       "      <td>1999-01-01</td>\n",
       "      <td>31.0</td>\n",
       "    </tr>\n",
       "  </tbody>\n",
       "</table>\n",
       "</div>"
      ],
      "text/plain": [
       "                                         MeasureName    State     County ReportYear  Value\n",
       "0  Number of days with maximum 8-hour average ozo...  Alabama       Clay 1999-01-01   33.0\n",
       "1  Number of days with maximum 8-hour average ozo...  Alabama     Elmore 1999-01-01    5.0\n",
       "2  Number of days with maximum 8-hour average ozo...  Alabama  Jefferson 1999-01-01   39.0\n",
       "3  Number of days with maximum 8-hour average ozo...  Alabama   Lawrence 1999-01-01   28.0\n",
       "4  Number of days with maximum 8-hour average ozo...  Alabama    Madison 1999-01-01   31.0"
      ]
     },
     "execution_count": 41,
     "metadata": {},
     "output_type": "execute_result"
    }
   ],
   "source": [
    "df.head()"
   ]
  },
  {
   "cell_type": "markdown",
   "metadata": {},
   "source": [
    "## Change \"Measure Names\" with numerical codes\n",
    "* Allowed me to filter out the measure names I didn't need using code"
   ]
  },
  {
   "cell_type": "code",
   "execution_count": 42,
   "metadata": {},
   "outputs": [],
   "source": [
    "measure_names=['Number of days with maximum 8-hour average ozone concentration over the National Ambient Air Quality Standard',\n",
    "              'Number of person-days with maximum 8-hour average ozone concentration over the National Ambient Air Quality Standard',\n",
    "              'Person-days with PM2.5 over the National Ambient Air Quality Standard',\n",
    "              'Percent of days with PM2.5 levels over the National Ambient Air Quality Standard (NAAQS)',\n",
    "              'Annual average ambient concentrations of PM2.5 in micrograms per cubic meter (based on seasonal averages and daily measurement)',\n",
    "              'Number of days with maximum 8-hour average ozone concentration over the National Ambient Air Quality Standard (monitor and modeled data)',\n",
    "              'Number of person-days with maximum 8-hour average ozone concentration over the National Ambient Air Quality Standard (monitor and modeled data)',\n",
    "              'Percent of days with PM2.5 levels over the National Ambient Air Quality Standard (monitor and modeled data)',\n",
    "              'Number of person-days with PM2.5 over the National Ambient Air Quality Standard (monitor and modeled data)',\n",
    "              'Annual average ambient concentrations of PM 2.5 in micrograms per cubic meter, based on seasonal averages and daily measurement (monitor and modeled data)']\n",
    "numbers=list(range(1,11))\n",
    "new_df=df.replace(measure_names, numbers)"
   ]
  },
  {
   "cell_type": "code",
   "execution_count": 43,
   "metadata": {},
   "outputs": [
    {
     "data": {
      "text/html": [
       "<div>\n",
       "<style scoped>\n",
       "    .dataframe tbody tr th:only-of-type {\n",
       "        vertical-align: middle;\n",
       "    }\n",
       "\n",
       "    .dataframe tbody tr th {\n",
       "        vertical-align: top;\n",
       "    }\n",
       "\n",
       "    .dataframe thead th {\n",
       "        text-align: right;\n",
       "    }\n",
       "</style>\n",
       "<table border=\"1\" class=\"dataframe\">\n",
       "  <thead>\n",
       "    <tr style=\"text-align: right;\">\n",
       "      <th></th>\n",
       "      <th>MeasureName</th>\n",
       "      <th>State</th>\n",
       "      <th>County</th>\n",
       "      <th>ReportYear</th>\n",
       "      <th>Value</th>\n",
       "    </tr>\n",
       "  </thead>\n",
       "  <tbody>\n",
       "    <tr>\n",
       "      <th>0</th>\n",
       "      <td>1</td>\n",
       "      <td>Alabama</td>\n",
       "      <td>Clay</td>\n",
       "      <td>1999-01-01</td>\n",
       "      <td>33.0</td>\n",
       "    </tr>\n",
       "    <tr>\n",
       "      <th>1</th>\n",
       "      <td>1</td>\n",
       "      <td>Alabama</td>\n",
       "      <td>Elmore</td>\n",
       "      <td>1999-01-01</td>\n",
       "      <td>5.0</td>\n",
       "    </tr>\n",
       "    <tr>\n",
       "      <th>2</th>\n",
       "      <td>1</td>\n",
       "      <td>Alabama</td>\n",
       "      <td>Jefferson</td>\n",
       "      <td>1999-01-01</td>\n",
       "      <td>39.0</td>\n",
       "    </tr>\n",
       "    <tr>\n",
       "      <th>3</th>\n",
       "      <td>1</td>\n",
       "      <td>Alabama</td>\n",
       "      <td>Lawrence</td>\n",
       "      <td>1999-01-01</td>\n",
       "      <td>28.0</td>\n",
       "    </tr>\n",
       "    <tr>\n",
       "      <th>4</th>\n",
       "      <td>1</td>\n",
       "      <td>Alabama</td>\n",
       "      <td>Madison</td>\n",
       "      <td>1999-01-01</td>\n",
       "      <td>31.0</td>\n",
       "    </tr>\n",
       "  </tbody>\n",
       "</table>\n",
       "</div>"
      ],
      "text/plain": [
       "   MeasureName    State     County ReportYear  Value\n",
       "0            1  Alabama       Clay 1999-01-01   33.0\n",
       "1            1  Alabama     Elmore 1999-01-01    5.0\n",
       "2            1  Alabama  Jefferson 1999-01-01   39.0\n",
       "3            1  Alabama   Lawrence 1999-01-01   28.0\n",
       "4            1  Alabama    Madison 1999-01-01   31.0"
      ]
     },
     "execution_count": 43,
     "metadata": {},
     "output_type": "execute_result"
    }
   ],
   "source": [
    "new_df.head()"
   ]
  },
  {
   "cell_type": "markdown",
   "metadata": {},
   "source": [
    "## Measure 10 County Avg Rankings \n",
    "* 10: 'Annual average ambient concentrations of PM 2.5 in micrograms per cubic meter, based on seasonal averages and daily measurement (monitor and modeled data)'"
   ]
  },
  {
   "cell_type": "code",
   "execution_count": 44,
   "metadata": {},
   "outputs": [
    {
     "data": {
      "text/html": [
       "<div>\n",
       "<style scoped>\n",
       "    .dataframe tbody tr th:only-of-type {\n",
       "        vertical-align: middle;\n",
       "    }\n",
       "\n",
       "    .dataframe tbody tr th {\n",
       "        vertical-align: top;\n",
       "    }\n",
       "\n",
       "    .dataframe thead th {\n",
       "        text-align: right;\n",
       "    }\n",
       "</style>\n",
       "<table border=\"1\" class=\"dataframe\">\n",
       "  <thead>\n",
       "    <tr style=\"text-align: right;\">\n",
       "      <th></th>\n",
       "      <th>State</th>\n",
       "      <th>County</th>\n",
       "      <th>MeasureName</th>\n",
       "      <th>Value</th>\n",
       "    </tr>\n",
       "  </thead>\n",
       "  <tbody>\n",
       "    <tr>\n",
       "      <th>189</th>\n",
       "      <td>California</td>\n",
       "      <td>Riverside</td>\n",
       "      <td>10</td>\n",
       "      <td>20.541063</td>\n",
       "    </tr>\n",
       "    <tr>\n",
       "      <th>175</th>\n",
       "      <td>California</td>\n",
       "      <td>Los Angeles</td>\n",
       "      <td>10</td>\n",
       "      <td>19.880742</td>\n",
       "    </tr>\n",
       "    <tr>\n",
       "      <th>192</th>\n",
       "      <td>California</td>\n",
       "      <td>San Bernardino</td>\n",
       "      <td>10</td>\n",
       "      <td>19.494277</td>\n",
       "    </tr>\n",
       "    <tr>\n",
       "      <th>2211</th>\n",
       "      <td>Pennsylvania</td>\n",
       "      <td>Allegheny</td>\n",
       "      <td>10</td>\n",
       "      <td>19.398811</td>\n",
       "    </tr>\n",
       "    <tr>\n",
       "      <th>171</th>\n",
       "      <td>California</td>\n",
       "      <td>Kern</td>\n",
       "      <td>10</td>\n",
       "      <td>19.345668</td>\n",
       "    </tr>\n",
       "    <tr>\n",
       "      <th>36</th>\n",
       "      <td>Alabama</td>\n",
       "      <td>Jefferson</td>\n",
       "      <td>10</td>\n",
       "      <td>17.720868</td>\n",
       "    </tr>\n",
       "    <tr>\n",
       "      <th>166</th>\n",
       "      <td>California</td>\n",
       "      <td>Fresno</td>\n",
       "      <td>10</td>\n",
       "      <td>17.401051</td>\n",
       "    </tr>\n",
       "    <tr>\n",
       "      <th>210</th>\n",
       "      <td>California</td>\n",
       "      <td>Tulare</td>\n",
       "      <td>10</td>\n",
       "      <td>17.315409</td>\n",
       "    </tr>\n",
       "    <tr>\n",
       "      <th>708</th>\n",
       "      <td>Indiana</td>\n",
       "      <td>Lake</td>\n",
       "      <td>10</td>\n",
       "      <td>16.773923</td>\n",
       "    </tr>\n",
       "    <tr>\n",
       "      <th>172</th>\n",
       "      <td>California</td>\n",
       "      <td>Kings</td>\n",
       "      <td>10</td>\n",
       "      <td>16.501265</td>\n",
       "    </tr>\n",
       "  </tbody>\n",
       "</table>\n",
       "</div>"
      ],
      "text/plain": [
       "             State          County  MeasureName      Value\n",
       "189     California       Riverside           10  20.541063\n",
       "175     California     Los Angeles           10  19.880742\n",
       "192     California  San Bernardino           10  19.494277\n",
       "2211  Pennsylvania       Allegheny           10  19.398811\n",
       "171     California            Kern           10  19.345668\n",
       "36         Alabama       Jefferson           10  17.720868\n",
       "166     California          Fresno           10  17.401051\n",
       "210     California          Tulare           10  17.315409\n",
       "708        Indiana            Lake           10  16.773923\n",
       "172     California           Kings           10  16.501265"
      ]
     },
     "execution_count": 44,
     "metadata": {},
     "output_type": "execute_result"
    }
   ],
   "source": [
    "measure10=new_df[new_df['MeasureName'] == 10]\n",
    "new_value_avg10=measure10.groupby(['State','County'], as_index=False).mean().sort_values(by='Value', ascending=False)\n",
    "new_value_avg10.head(10)"
   ]
  },
  {
   "cell_type": "markdown",
   "metadata": {},
   "source": [
    "## Measure 6 County Avg Rankings \n",
    "* 6: 'Number of days with maximum 8-hour average ozone concentration over the National Ambient Air Quality Standard (monitor and modeled data)'"
   ]
  },
  {
   "cell_type": "code",
   "execution_count": 45,
   "metadata": {},
   "outputs": [
    {
     "data": {
      "text/html": [
       "<div>\n",
       "<style scoped>\n",
       "    .dataframe tbody tr th:only-of-type {\n",
       "        vertical-align: middle;\n",
       "    }\n",
       "\n",
       "    .dataframe tbody tr th {\n",
       "        vertical-align: top;\n",
       "    }\n",
       "\n",
       "    .dataframe thead th {\n",
       "        text-align: right;\n",
       "    }\n",
       "</style>\n",
       "<table border=\"1\" class=\"dataframe\">\n",
       "  <thead>\n",
       "    <tr style=\"text-align: right;\">\n",
       "      <th></th>\n",
       "      <th>State</th>\n",
       "      <th>County</th>\n",
       "      <th>MeasureName</th>\n",
       "      <th>Value</th>\n",
       "    </tr>\n",
       "  </thead>\n",
       "  <tbody>\n",
       "    <tr>\n",
       "      <th>192</th>\n",
       "      <td>California</td>\n",
       "      <td>San Bernardino</td>\n",
       "      <td>6</td>\n",
       "      <td>114.090909</td>\n",
       "    </tr>\n",
       "    <tr>\n",
       "      <th>189</th>\n",
       "      <td>California</td>\n",
       "      <td>Riverside</td>\n",
       "      <td>6</td>\n",
       "      <td>107.636364</td>\n",
       "    </tr>\n",
       "    <tr>\n",
       "      <th>171</th>\n",
       "      <td>California</td>\n",
       "      <td>Kern</td>\n",
       "      <td>6</td>\n",
       "      <td>105.090909</td>\n",
       "    </tr>\n",
       "    <tr>\n",
       "      <th>210</th>\n",
       "      <td>California</td>\n",
       "      <td>Tulare</td>\n",
       "      <td>6</td>\n",
       "      <td>104.545455</td>\n",
       "    </tr>\n",
       "    <tr>\n",
       "      <th>175</th>\n",
       "      <td>California</td>\n",
       "      <td>Los Angeles</td>\n",
       "      <td>6</td>\n",
       "      <td>86.272727</td>\n",
       "    </tr>\n",
       "    <tr>\n",
       "      <th>166</th>\n",
       "      <td>California</td>\n",
       "      <td>Fresno</td>\n",
       "      <td>6</td>\n",
       "      <td>78.363636</td>\n",
       "    </tr>\n",
       "    <tr>\n",
       "      <th>165</th>\n",
       "      <td>California</td>\n",
       "      <td>El Dorado</td>\n",
       "      <td>6</td>\n",
       "      <td>42.636364</td>\n",
       "    </tr>\n",
       "    <tr>\n",
       "      <th>2589</th>\n",
       "      <td>Texas</td>\n",
       "      <td>Harris</td>\n",
       "      <td>6</td>\n",
       "      <td>40.363636</td>\n",
       "    </tr>\n",
       "    <tr>\n",
       "      <th>180</th>\n",
       "      <td>California</td>\n",
       "      <td>Merced</td>\n",
       "      <td>6</td>\n",
       "      <td>39.909091</td>\n",
       "    </tr>\n",
       "    <tr>\n",
       "      <th>185</th>\n",
       "      <td>California</td>\n",
       "      <td>Nevada</td>\n",
       "      <td>6</td>\n",
       "      <td>39.272727</td>\n",
       "    </tr>\n",
       "  </tbody>\n",
       "</table>\n",
       "</div>"
      ],
      "text/plain": [
       "           State          County  MeasureName       Value\n",
       "192   California  San Bernardino            6  114.090909\n",
       "189   California       Riverside            6  107.636364\n",
       "171   California            Kern            6  105.090909\n",
       "210   California          Tulare            6  104.545455\n",
       "175   California     Los Angeles            6   86.272727\n",
       "166   California          Fresno            6   78.363636\n",
       "165   California       El Dorado            6   42.636364\n",
       "2589       Texas          Harris            6   40.363636\n",
       "180   California          Merced            6   39.909091\n",
       "185   California          Nevada            6   39.272727"
      ]
     },
     "execution_count": 45,
     "metadata": {},
     "output_type": "execute_result"
    }
   ],
   "source": [
    "measure6=new_df[new_df['MeasureName'] == 6]\n",
    "new_value_avg6=measure6.groupby(['State','County'], as_index=False).mean().sort_values(by='Value', ascending=False)\n",
    "new_value_avg6.head(10)"
   ]
  },
  {
   "cell_type": "markdown",
   "metadata": {},
   "source": [
    "## All County Asthma Csv's"
   ]
  },
  {
   "cell_type": "code",
   "execution_count": 46,
   "metadata": {},
   "outputs": [],
   "source": [
    "all_files = ['AZ_Asthma.csv', 'Cali_Asthma.csv', 'Colorado_Asthma.csv', 'CT_Asthma.csv', 'FL_Asthma.csv', 'Iowa_Asthma.csv', 'Kansas_Asthma.csv', 'Kentucky_Asthma.csv', 'Louisiana_Asthma.csv','MD_asthma.csv', 'Maine_Asthma.csv', 'Mass_asthma.csv', 'Minn_Asthma.csv', 'Missouri_Asthma.csv', 'NC_Asthma.csv','NJ_asthma.csv','NY_Asthma.csv', 'NewHamp_Asthma.csv', 'NewMex_Asthma.csv', 'RI_Asthma.csv', 'SC_Asthma.csv', 'Tenn_Asthma.csv', 'Utah_Asthma.csv', 'Vermont_Asthma.csv', 'Wisconsin_Asthma.csv']\n",
    "li = []\n",
    "\n",
    "for filename in all_files:\n",
    "    mad_df = pd.read_csv(filename, index_col=None, header=0)\n",
    "    li.append(mad_df)\n",
    "\n",
    "all_states = pd.concat(li, axis=0, ignore_index=True)\n",
    "all_states.drop(['Unnamed: 6','countyFIPS', 'stateFIPS'], axis=1, inplace=True)\n"
   ]
  },
  {
   "cell_type": "code",
   "execution_count": 47,
   "metadata": {},
   "outputs": [],
   "source": [
    "new_all_states=all_states.drop(['Year'], axis=1)\n",
    "new_all_states.rename(index=str, columns={\"Value\": \"Yearly_Asthma_EDVisits\"}, inplace=True)"
   ]
  },
  {
   "cell_type": "code",
   "execution_count": 48,
   "metadata": {},
   "outputs": [],
   "source": [
    "new_all_states['Yearly_Asthma_EDVisits']=new_all_states['Yearly_Asthma_EDVisits'].str.replace(',', '')\n",
    "new_all_states['Yearly_Asthma_EDVisits']= pd.to_numeric(new_all_states['Yearly_Asthma_EDVisits'], errors ='coerce')"
   ]
  },
  {
   "cell_type": "markdown",
   "metadata": {},
   "source": [
    "# All Population CSVs"
   ]
  },
  {
   "cell_type": "code",
   "execution_count": 49,
   "metadata": {},
   "outputs": [],
   "source": [
    "population_files = ['Colorado_pop.csv', 'AZ_pop.csv','Cali_pop.csv', 'CT_pop.csv', 'FL_pop.csv', 'Iowa_pop.csv', 'Kansas_pop.csv', 'Kentucky_pop.csv', 'Utah_pop.csv', 'Louisiana_pop.csv', 'Maine_pop.csv', 'MD_pop.csv', 'Mass_pop.csv', 'Minn_pop.csv', 'NY_pop.csv', 'Missouri_pop.csv', 'NC_pop.csv', 'NewHamp_pop.csv', 'NJ_pop.csv', 'NewMex_pop.csv', 'RI_pop.csv', 'SC_pop.csv', 'Tenn_pop.csv', 'Vermont_pop.csv', 'Wisconsin_pop.csv']\n",
    "popli = []\n",
    "\n",
    "for popfile in population_files:\n",
    "    mad_df = pd.read_csv(popfile, index_col=None, header=0)\n",
    "    popli.append(mad_df)\n",
    "\n",
    "all_pop = pd.concat(popli, axis=0, ignore_index=True)\n",
    "all_pop.drop(['Unnamed: 6','countyFIPS', 'stateFIPS'], axis=1, inplace=True)"
   ]
  },
  {
   "cell_type": "code",
   "execution_count": 50,
   "metadata": {},
   "outputs": [],
   "source": [
    "new_all_pop=all_pop.drop(['Year'], axis=1)\n",
    "new_all_pop.rename(index=str, columns={\"Value\": \"Population\"}, inplace=True)"
   ]
  },
  {
   "cell_type": "code",
   "execution_count": 51,
   "metadata": {},
   "outputs": [],
   "source": [
    "new_all_pop['Population']=new_all_pop['Population'].str.replace(',', '')\n",
    "new_all_pop['Population']= pd.to_numeric(new_all_pop['Population'], errors ='coerce')"
   ]
  },
  {
   "cell_type": "markdown",
   "metadata": {},
   "source": [
    "## Merge and Play with all three dataframes from value 6"
   ]
  },
  {
   "cell_type": "code",
   "execution_count": 61,
   "metadata": {},
   "outputs": [],
   "source": [
    "dfs_all = [new_value_avg6, new_all_states, new_all_pop]\n",
    "df_six = reduce(lambda left,right: pd.merge(left,right,on=['State','County']), dfs_all)"
   ]
  },
  {
   "cell_type": "code",
   "execution_count": 63,
   "metadata": {},
   "outputs": [
    {
     "data": {
      "text/html": [
       "<div>\n",
       "<style scoped>\n",
       "    .dataframe tbody tr th:only-of-type {\n",
       "        vertical-align: middle;\n",
       "    }\n",
       "\n",
       "    .dataframe tbody tr th {\n",
       "        vertical-align: top;\n",
       "    }\n",
       "\n",
       "    .dataframe thead th {\n",
       "        text-align: right;\n",
       "    }\n",
       "</style>\n",
       "<table border=\"1\" class=\"dataframe\">\n",
       "  <thead>\n",
       "    <tr style=\"text-align: right;\">\n",
       "      <th></th>\n",
       "      <th>State</th>\n",
       "      <th>County</th>\n",
       "      <th>MeasureName</th>\n",
       "      <th>Value</th>\n",
       "      <th>Yearly_Asthma_EDVisits</th>\n",
       "      <th>Population</th>\n",
       "    </tr>\n",
       "  </thead>\n",
       "  <tbody>\n",
       "    <tr>\n",
       "      <th>0</th>\n",
       "      <td>California</td>\n",
       "      <td>San Bernardino</td>\n",
       "      <td>6</td>\n",
       "      <td>114.090909</td>\n",
       "      <td>11352.0</td>\n",
       "      <td>1596584</td>\n",
       "    </tr>\n",
       "    <tr>\n",
       "      <th>1</th>\n",
       "      <td>California</td>\n",
       "      <td>San Bernardino</td>\n",
       "      <td>6</td>\n",
       "      <td>114.090909</td>\n",
       "      <td>11352.0</td>\n",
       "      <td>1618438</td>\n",
       "    </tr>\n",
       "    <tr>\n",
       "      <th>2</th>\n",
       "      <td>California</td>\n",
       "      <td>San Bernardino</td>\n",
       "      <td>6</td>\n",
       "      <td>114.090909</td>\n",
       "      <td>11352.0</td>\n",
       "      <td>1646304</td>\n",
       "    </tr>\n",
       "    <tr>\n",
       "      <th>3</th>\n",
       "      <td>California</td>\n",
       "      <td>San Bernardino</td>\n",
       "      <td>6</td>\n",
       "      <td>114.090909</td>\n",
       "      <td>11352.0</td>\n",
       "      <td>1681601</td>\n",
       "    </tr>\n",
       "    <tr>\n",
       "      <th>4</th>\n",
       "      <td>California</td>\n",
       "      <td>San Bernardino</td>\n",
       "      <td>6</td>\n",
       "      <td>114.090909</td>\n",
       "      <td>11352.0</td>\n",
       "      <td>1718037</td>\n",
       "    </tr>\n",
       "  </tbody>\n",
       "</table>\n",
       "</div>"
      ],
      "text/plain": [
       "        State          County  MeasureName       Value  Yearly_Asthma_EDVisits  Population\n",
       "0  California  San Bernardino            6  114.090909                 11352.0     1596584\n",
       "1  California  San Bernardino            6  114.090909                 11352.0     1618438\n",
       "2  California  San Bernardino            6  114.090909                 11352.0     1646304\n",
       "3  California  San Bernardino            6  114.090909                 11352.0     1681601\n",
       "4  California  San Bernardino            6  114.090909                 11352.0     1718037"
      ]
     },
     "execution_count": 63,
     "metadata": {},
     "output_type": "execute_result"
    }
   ],
   "source": [
    "df_six.head()"
   ]
  },
  {
   "cell_type": "markdown",
   "metadata": {},
   "source": [
    "## Rename df_six (Do not re-run)"
   ]
  },
  {
   "cell_type": "code",
   "execution_count": 64,
   "metadata": {},
   "outputs": [],
   "source": [
    "df_six.rename(index=str, columns={\"Value\": \"Avg_Days_Over\"}, inplace=True)"
   ]
  },
  {
   "cell_type": "markdown",
   "metadata": {},
   "source": [
    "## Merge and Play with all three dataframes from value 10"
   ]
  },
  {
   "cell_type": "code",
   "execution_count": 65,
   "metadata": {},
   "outputs": [],
   "source": [
    "df_10=pd.merge(df_six, new_value_avg10, on=['State','County'])\n"
   ]
  },
  {
   "cell_type": "markdown",
   "metadata": {},
   "source": [
    "## ## Rename df_10 (Do not re-run)"
   ]
  },
  {
   "cell_type": "code",
   "execution_count": 66,
   "metadata": {},
   "outputs": [],
   "source": [
    "df_10.rename(index=str, columns={\"Value\": \"PM2.5_Annual_Avg\"}, inplace=True)"
   ]
  },
  {
   "cell_type": "code",
   "execution_count": 33,
   "metadata": {},
   "outputs": [
    {
     "ename": "NameError",
     "evalue": "name 'new_united10' is not defined",
     "output_type": "error",
     "traceback": [
      "\u001b[0;31m---------------------------------------------------------------------------\u001b[0m",
      "\u001b[0;31mNameError\u001b[0m                                 Traceback (most recent call last)",
      "\u001b[0;32m<ipython-input-33-6f7b20bd18e8>\u001b[0m in \u001b[0;36m<module>\u001b[0;34m\u001b[0m\n\u001b[0;32m----> 1\u001b[0;31m \u001b[0mnew_united10\u001b[0m\u001b[0;34m.\u001b[0m\u001b[0mdrop\u001b[0m\u001b[0;34m(\u001b[0m\u001b[0;34m[\u001b[0m\u001b[0;34m'MeasureName_x'\u001b[0m\u001b[0;34m,\u001b[0m\u001b[0;34m'MeasureName_y'\u001b[0m\u001b[0;34m]\u001b[0m\u001b[0;34m,\u001b[0m \u001b[0maxis\u001b[0m\u001b[0;34m=\u001b[0m\u001b[0;36m1\u001b[0m\u001b[0;34m,\u001b[0m \u001b[0minplace\u001b[0m\u001b[0;34m=\u001b[0m\u001b[0;32mTrue\u001b[0m\u001b[0;34m)\u001b[0m\u001b[0;34m\u001b[0m\u001b[0;34m\u001b[0m\u001b[0m\n\u001b[0m\u001b[1;32m      2\u001b[0m \u001b[0mnew_united10\u001b[0m\u001b[0;34m[\u001b[0m\u001b[0;34m'Avg_Days_Over'\u001b[0m\u001b[0;34m]\u001b[0m\u001b[0;34m=\u001b[0m\u001b[0mnew_united10\u001b[0m\u001b[0;34m[\u001b[0m\u001b[0;34m'Avg_Days_Over'\u001b[0m\u001b[0;34m]\u001b[0m\u001b[0;34m.\u001b[0m\u001b[0mround\u001b[0m\u001b[0;34m(\u001b[0m\u001b[0;34m)\u001b[0m\u001b[0;34m\u001b[0m\u001b[0;34m\u001b[0m\u001b[0m\n\u001b[1;32m      3\u001b[0m \u001b[0mnew_united10\u001b[0m\u001b[0;34m[\u001b[0m\u001b[0;34m'Yearly_Asthma_EDVisits'\u001b[0m\u001b[0;34m]\u001b[0m\u001b[0;34m=\u001b[0m\u001b[0mnew_united10\u001b[0m\u001b[0;34m[\u001b[0m\u001b[0;34m'Yearly_Asthma_EDVisits'\u001b[0m\u001b[0;34m]\u001b[0m\u001b[0;34m.\u001b[0m\u001b[0mround\u001b[0m\u001b[0;34m(\u001b[0m\u001b[0;34m)\u001b[0m\u001b[0;34m\u001b[0m\u001b[0;34m\u001b[0m\u001b[0m\n\u001b[1;32m      4\u001b[0m \u001b[0mnew_united10\u001b[0m\u001b[0;34m[\u001b[0m\u001b[0;34m'Population'\u001b[0m\u001b[0;34m]\u001b[0m\u001b[0;34m=\u001b[0m\u001b[0mnew_united10\u001b[0m\u001b[0;34m[\u001b[0m\u001b[0;34m'Population'\u001b[0m\u001b[0;34m]\u001b[0m\u001b[0;34m.\u001b[0m\u001b[0mround\u001b[0m\u001b[0;34m(\u001b[0m\u001b[0;34m)\u001b[0m\u001b[0;34m\u001b[0m\u001b[0;34m\u001b[0m\u001b[0m\n\u001b[1;32m      5\u001b[0m \u001b[0mnew_united10\u001b[0m\u001b[0;34m[\u001b[0m\u001b[0;34m'PM2.5_Annual_Avg'\u001b[0m\u001b[0;34m]\u001b[0m\u001b[0;34m=\u001b[0m\u001b[0mnew_united10\u001b[0m\u001b[0;34m[\u001b[0m\u001b[0;34m'PM2.5_Annual_Avg'\u001b[0m\u001b[0;34m]\u001b[0m\u001b[0;34m.\u001b[0m\u001b[0mround\u001b[0m\u001b[0;34m(\u001b[0m\u001b[0;34m)\u001b[0m\u001b[0;34m\u001b[0m\u001b[0;34m\u001b[0m\u001b[0m\n",
      "\u001b[0;31mNameError\u001b[0m: name 'new_united10' is not defined"
     ]
    }
   ],
   "source": [
    "new_united10.drop(['MeasureName_x','MeasureName_y'], axis=1, inplace=True)\n",
    "new_united10['Avg_Days_Over']=new_united10['Avg_Days_Over'].round()\n",
    "new_united10['Yearly_Asthma_EDVisits']=new_united10['Yearly_Asthma_EDVisits'].round()\n",
    "new_united10['Population']=new_united10['Population'].round()\n",
    "new_united10['PM2.5_Annual_Avg']=new_united10['PM2.5_Annual_Avg'].round()"
   ]
  },
  {
   "cell_type": "code",
   "execution_count": 67,
   "metadata": {},
   "outputs": [
    {
     "data": {
      "text/html": [
       "<div>\n",
       "<style scoped>\n",
       "    .dataframe tbody tr th:only-of-type {\n",
       "        vertical-align: middle;\n",
       "    }\n",
       "\n",
       "    .dataframe tbody tr th {\n",
       "        vertical-align: top;\n",
       "    }\n",
       "\n",
       "    .dataframe thead th {\n",
       "        text-align: right;\n",
       "    }\n",
       "</style>\n",
       "<table border=\"1\" class=\"dataframe\">\n",
       "  <thead>\n",
       "    <tr style=\"text-align: right;\">\n",
       "      <th></th>\n",
       "      <th>State</th>\n",
       "      <th>County</th>\n",
       "      <th>Avg_Days_Over</th>\n",
       "      <th>Yearly_Asthma_EDVisits</th>\n",
       "      <th>Population</th>\n",
       "      <th>PM2.5_Annual_Avg</th>\n",
       "    </tr>\n",
       "  </thead>\n",
       "  <tbody>\n",
       "    <tr>\n",
       "      <th>0</th>\n",
       "      <td>California</td>\n",
       "      <td>San Bernardino</td>\n",
       "      <td>114.0</td>\n",
       "      <td>12050.0</td>\n",
       "      <td>1899318.0</td>\n",
       "      <td>19.0</td>\n",
       "    </tr>\n",
       "    <tr>\n",
       "      <th>1</th>\n",
       "      <td>California</td>\n",
       "      <td>Riverside</td>\n",
       "      <td>108.0</td>\n",
       "      <td>9079.0</td>\n",
       "      <td>1911108.0</td>\n",
       "      <td>21.0</td>\n",
       "    </tr>\n",
       "    <tr>\n",
       "      <th>2</th>\n",
       "      <td>California</td>\n",
       "      <td>Kern</td>\n",
       "      <td>105.0</td>\n",
       "      <td>4473.0</td>\n",
       "      <td>760124.0</td>\n",
       "      <td>19.0</td>\n",
       "    </tr>\n",
       "    <tr>\n",
       "      <th>3</th>\n",
       "      <td>California</td>\n",
       "      <td>Tulare</td>\n",
       "      <td>105.0</td>\n",
       "      <td>2388.0</td>\n",
       "      <td>407989.0</td>\n",
       "      <td>17.0</td>\n",
       "    </tr>\n",
       "    <tr>\n",
       "      <th>4</th>\n",
       "      <td>California</td>\n",
       "      <td>Los Angeles</td>\n",
       "      <td>86.0</td>\n",
       "      <td>48164.0</td>\n",
       "      <td>9707171.0</td>\n",
       "      <td>20.0</td>\n",
       "    </tr>\n",
       "  </tbody>\n",
       "</table>\n",
       "</div>"
      ],
      "text/plain": [
       "        State          County  Avg_Days_Over  Yearly_Asthma_EDVisits  Population  PM2.5_Annual_Avg\n",
       "0  California  San Bernardino          114.0                 12050.0   1899318.0              19.0\n",
       "1  California       Riverside          108.0                  9079.0   1911108.0              21.0\n",
       "2  California            Kern          105.0                  4473.0    760124.0              19.0\n",
       "3  California          Tulare          105.0                  2388.0    407989.0              17.0\n",
       "4  California     Los Angeles           86.0                 48164.0   9707171.0              20.0"
      ]
     },
     "execution_count": 67,
     "metadata": {},
     "output_type": "execute_result"
    }
   ],
   "source": [
    "new_united10.head()"
   ]
  },
  {
   "cell_type": "code",
   "execution_count": 68,
   "metadata": {},
   "outputs": [],
   "source": [
    "new_united10['A_Visits/Pop']=(new_united10['Yearly_Asthma_EDVisits']/new_united10['Population']).round(2)"
   ]
  },
  {
   "cell_type": "code",
   "execution_count": 69,
   "metadata": {},
   "outputs": [
    {
     "data": {
      "text/html": [
       "<div>\n",
       "<style scoped>\n",
       "    .dataframe tbody tr th:only-of-type {\n",
       "        vertical-align: middle;\n",
       "    }\n",
       "\n",
       "    .dataframe tbody tr th {\n",
       "        vertical-align: top;\n",
       "    }\n",
       "\n",
       "    .dataframe thead th {\n",
       "        text-align: right;\n",
       "    }\n",
       "</style>\n",
       "<table border=\"1\" class=\"dataframe\">\n",
       "  <thead>\n",
       "    <tr style=\"text-align: right;\">\n",
       "      <th></th>\n",
       "      <th>PM2.5_Annual_Avg</th>\n",
       "      <th>A/Pop_Avg-PM2.5_lvl</th>\n",
       "      <th>Yearly_AVisits_Avg-PM2.5_lvl</th>\n",
       "    </tr>\n",
       "  </thead>\n",
       "  <tbody>\n",
       "    <tr>\n",
       "      <th>0</th>\n",
       "      <td>5.0</td>\n",
       "      <td>0.0000</td>\n",
       "      <td>14.166667</td>\n",
       "    </tr>\n",
       "    <tr>\n",
       "      <th>1</th>\n",
       "      <td>6.0</td>\n",
       "      <td>0.0011</td>\n",
       "      <td>53.818182</td>\n",
       "    </tr>\n",
       "    <tr>\n",
       "      <th>2</th>\n",
       "      <td>7.0</td>\n",
       "      <td>0.0019</td>\n",
       "      <td>250.209677</td>\n",
       "    </tr>\n",
       "    <tr>\n",
       "      <th>3</th>\n",
       "      <td>8.0</td>\n",
       "      <td>0.0021</td>\n",
       "      <td>409.808989</td>\n",
       "    </tr>\n",
       "    <tr>\n",
       "      <th>4</th>\n",
       "      <td>9.0</td>\n",
       "      <td>0.0029</td>\n",
       "      <td>669.127451</td>\n",
       "    </tr>\n",
       "  </tbody>\n",
       "</table>\n",
       "</div>"
      ],
      "text/plain": [
       "   PM2.5_Annual_Avg  A/Pop_Avg-PM2.5_lvl  Yearly_AVisits_Avg-PM2.5_lvl\n",
       "0               5.0               0.0000                     14.166667\n",
       "1               6.0               0.0011                     53.818182\n",
       "2               7.0               0.0019                    250.209677\n",
       "3               8.0               0.0021                    409.808989\n",
       "4               9.0               0.0029                    669.127451"
      ]
     },
     "execution_count": 69,
     "metadata": {},
     "output_type": "execute_result"
    }
   ],
   "source": [
    "prod_features = ['A/Pop_Avg-PM2.5_lvl', 'Yearly_AVisits_Avg-PM2.5_lvl']\n",
    "\n",
    "united_features = (new_united10.groupby(['PM2.5_Annual_Avg'],as_index=False)\n",
    "                                           .agg(OrderedDict(\n",
    "                                                   [('A_Visits/Pop','mean'),\n",
    "                                                   ('Yearly_Asthma_EDVisits','mean')])))\n",
    "united_features.columns = ['PM2.5_Annual_Avg'] + prod_features\n",
    "united_features['A/Pop_Avg-PM2.5_lvl']=united_features['A/Pop_Avg-PM2.5_lvl'].round(4)\n",
    "united_features.head(5)"
   ]
  },
  {
   "cell_type": "code",
   "execution_count": 70,
   "metadata": {},
   "outputs": [],
   "source": [
    "new_united10=pd.merge(new_united10, united_features, on='PM2.5_Annual_Avg')"
   ]
  },
  {
   "cell_type": "code",
   "execution_count": 71,
   "metadata": {},
   "outputs": [],
   "source": [
    "new_united10['Yearly_AVisits_Avg-PM2.5_lvl']=new_united10['Yearly_AVisits_Avg-PM2.5_lvl'].round()"
   ]
  },
  {
   "cell_type": "code",
   "execution_count": 72,
   "metadata": {},
   "outputs": [
    {
     "data": {
      "text/html": [
       "<div>\n",
       "<style scoped>\n",
       "    .dataframe tbody tr th:only-of-type {\n",
       "        vertical-align: middle;\n",
       "    }\n",
       "\n",
       "    .dataframe tbody tr th {\n",
       "        vertical-align: top;\n",
       "    }\n",
       "\n",
       "    .dataframe thead th {\n",
       "        text-align: right;\n",
       "    }\n",
       "</style>\n",
       "<table border=\"1\" class=\"dataframe\">\n",
       "  <thead>\n",
       "    <tr style=\"text-align: right;\">\n",
       "      <th></th>\n",
       "      <th>State</th>\n",
       "      <th>County</th>\n",
       "      <th>Avg_Days_Over</th>\n",
       "      <th>Yearly_Asthma_EDVisits</th>\n",
       "      <th>Population</th>\n",
       "      <th>PM2.5_Annual_Avg</th>\n",
       "      <th>A_Visits/Pop</th>\n",
       "      <th>A/Pop_Avg-PM2.5_lvl</th>\n",
       "      <th>Yearly_AVisits_Avg-PM2.5_lvl</th>\n",
       "    </tr>\n",
       "  </thead>\n",
       "  <tbody>\n",
       "    <tr>\n",
       "      <th>0</th>\n",
       "      <td>California</td>\n",
       "      <td>San Bernardino</td>\n",
       "      <td>114.0</td>\n",
       "      <td>12050.0</td>\n",
       "      <td>1899318.0</td>\n",
       "      <td>19.0</td>\n",
       "      <td>0.01</td>\n",
       "      <td>0.01</td>\n",
       "      <td>8262.0</td>\n",
       "    </tr>\n",
       "    <tr>\n",
       "      <th>1122</th>\n",
       "      <td>Kentucky</td>\n",
       "      <td>Jefferson</td>\n",
       "      <td>14.0</td>\n",
       "      <td>6276.0</td>\n",
       "      <td>719554.0</td>\n",
       "      <td>16.0</td>\n",
       "      <td>0.01</td>\n",
       "      <td>0.01</td>\n",
       "      <td>6276.0</td>\n",
       "    </tr>\n",
       "    <tr>\n",
       "      <th>3</th>\n",
       "      <td>California</td>\n",
       "      <td>Tulare</td>\n",
       "      <td>105.0</td>\n",
       "      <td>2388.0</td>\n",
       "      <td>407989.0</td>\n",
       "      <td>17.0</td>\n",
       "      <td>0.01</td>\n",
       "      <td>0.01</td>\n",
       "      <td>3439.0</td>\n",
       "    </tr>\n",
       "    <tr>\n",
       "      <th>4</th>\n",
       "      <td>California</td>\n",
       "      <td>Fresno</td>\n",
       "      <td>78.0</td>\n",
       "      <td>6759.0</td>\n",
       "      <td>872261.0</td>\n",
       "      <td>17.0</td>\n",
       "      <td>0.01</td>\n",
       "      <td>0.01</td>\n",
       "      <td>3439.0</td>\n",
       "    </tr>\n",
       "    <tr>\n",
       "      <th>5</th>\n",
       "      <td>California</td>\n",
       "      <td>Kings</td>\n",
       "      <td>39.0</td>\n",
       "      <td>1169.0</td>\n",
       "      <td>140771.0</td>\n",
       "      <td>17.0</td>\n",
       "      <td>0.01</td>\n",
       "      <td>0.01</td>\n",
       "      <td>3439.0</td>\n",
       "    </tr>\n",
       "  </tbody>\n",
       "</table>\n",
       "</div>"
      ],
      "text/plain": [
       "           State          County  Avg_Days_Over  Yearly_Asthma_EDVisits  Population  PM2.5_Annual_Avg  A_Visits/Pop  A/Pop_Avg-PM2.5_lvl  Yearly_AVisits_Avg-PM2.5_lvl\n",
       "0     California  San Bernardino          114.0                 12050.0   1899318.0              19.0          0.01                 0.01                        8262.0\n",
       "1122    Kentucky       Jefferson           14.0                  6276.0    719554.0              16.0          0.01                 0.01                        6276.0\n",
       "3     California          Tulare          105.0                  2388.0    407989.0              17.0          0.01                 0.01                        3439.0\n",
       "4     California          Fresno           78.0                  6759.0    872261.0              17.0          0.01                 0.01                        3439.0\n",
       "5     California           Kings           39.0                  1169.0    140771.0              17.0          0.01                 0.01                        3439.0"
      ]
     },
     "execution_count": 72,
     "metadata": {},
     "output_type": "execute_result"
    }
   ],
   "source": [
    "new_united10.sort_values(by = 'A/Pop_Avg-PM2.5_lvl', ascending = False).head(5)"
   ]
  },
  {
   "cell_type": "code",
   "execution_count": 73,
   "metadata": {},
   "outputs": [],
   "source": [
    "new_united10['At_Risk']=new_united10['A_Visits/Pop'].apply(lambda x: 0 if x < .01 else 1)"
   ]
  },
  {
   "cell_type": "code",
   "execution_count": 74,
   "metadata": {},
   "outputs": [],
   "source": [
    "new_united10.drop(6, inplace=True)"
   ]
  },
  {
   "cell_type": "code",
   "execution_count": 75,
   "metadata": {},
   "outputs": [],
   "source": [
    "new_united10.drop(['State','County'], axis=1, inplace=True)"
   ]
  },
  {
   "cell_type": "code",
   "execution_count": 76,
   "metadata": {},
   "outputs": [],
   "source": [
    "new_united10.dropna(inplace=True)"
   ]
  },
  {
   "cell_type": "markdown",
   "metadata": {},
   "source": [
    "# Train, Test, Split (Forreal)"
   ]
  },
  {
   "cell_type": "code",
   "execution_count": 77,
   "metadata": {},
   "outputs": [],
   "source": [
    "X_train, X_test, y_train, y_test = train_test_split(new_united10.iloc[:, 0:7], new_united10.iloc[:, -1].values.reshape(-1,1), \n",
    "                                                    test_size = 0.2, random_state=42)"
   ]
  },
  {
   "cell_type": "code",
   "execution_count": 78,
   "metadata": {},
   "outputs": [
    {
     "data": {
      "text/html": [
       "<div>\n",
       "<style scoped>\n",
       "    .dataframe tbody tr th:only-of-type {\n",
       "        vertical-align: middle;\n",
       "    }\n",
       "\n",
       "    .dataframe tbody tr th {\n",
       "        vertical-align: top;\n",
       "    }\n",
       "\n",
       "    .dataframe thead th {\n",
       "        text-align: right;\n",
       "    }\n",
       "</style>\n",
       "<table border=\"1\" class=\"dataframe\">\n",
       "  <thead>\n",
       "    <tr style=\"text-align: right;\">\n",
       "      <th></th>\n",
       "      <th>Avg_Days_Over</th>\n",
       "      <th>Yearly_Asthma_EDVisits</th>\n",
       "      <th>Population</th>\n",
       "      <th>PM2.5_Annual_Avg</th>\n",
       "      <th>A_Visits/Pop</th>\n",
       "      <th>A/Pop_Avg-PM2.5_lvl</th>\n",
       "      <th>Yearly_AVisits_Avg-PM2.5_lvl</th>\n",
       "      <th>At_Risk</th>\n",
       "      <th>Going?</th>\n",
       "    </tr>\n",
       "  </thead>\n",
       "  <tbody>\n",
       "    <tr>\n",
       "      <th>171</th>\n",
       "      <td>2.0</td>\n",
       "      <td>24.0</td>\n",
       "      <td>9052.0</td>\n",
       "      <td>11.0</td>\n",
       "      <td>0.0</td>\n",
       "      <td>0.0026</td>\n",
       "      <td>537.0</td>\n",
       "      <td>0</td>\n",
       "      <td>No</td>\n",
       "    </tr>\n",
       "    <tr>\n",
       "      <th>725</th>\n",
       "      <td>6.0</td>\n",
       "      <td>155.0</td>\n",
       "      <td>40198.0</td>\n",
       "      <td>12.0</td>\n",
       "      <td>0.0</td>\n",
       "      <td>0.0050</td>\n",
       "      <td>740.0</td>\n",
       "      <td>0</td>\n",
       "      <td>No</td>\n",
       "    </tr>\n",
       "    <tr>\n",
       "      <th>633</th>\n",
       "      <td>3.0</td>\n",
       "      <td>71.0</td>\n",
       "      <td>18278.0</td>\n",
       "      <td>13.0</td>\n",
       "      <td>0.0</td>\n",
       "      <td>0.0053</td>\n",
       "      <td>804.0</td>\n",
       "      <td>0</td>\n",
       "      <td>No</td>\n",
       "    </tr>\n",
       "    <tr>\n",
       "      <th>210</th>\n",
       "      <td>2.0</td>\n",
       "      <td>85.0</td>\n",
       "      <td>17158.0</td>\n",
       "      <td>11.0</td>\n",
       "      <td>0.0</td>\n",
       "      <td>0.0026</td>\n",
       "      <td>537.0</td>\n",
       "      <td>0</td>\n",
       "      <td>No</td>\n",
       "    </tr>\n",
       "    <tr>\n",
       "      <th>375</th>\n",
       "      <td>5.0</td>\n",
       "      <td>1309.0</td>\n",
       "      <td>359054.0</td>\n",
       "      <td>9.0</td>\n",
       "      <td>0.0</td>\n",
       "      <td>0.0029</td>\n",
       "      <td>669.0</td>\n",
       "      <td>0</td>\n",
       "      <td>No</td>\n",
       "    </tr>\n",
       "  </tbody>\n",
       "</table>\n",
       "</div>"
      ],
      "text/plain": [
       "     Avg_Days_Over  Yearly_Asthma_EDVisits  Population  PM2.5_Annual_Avg  A_Visits/Pop  A/Pop_Avg-PM2.5_lvl  Yearly_AVisits_Avg-PM2.5_lvl  At_Risk Going?\n",
       "171            2.0                    24.0      9052.0              11.0           0.0               0.0026                         537.0        0     No\n",
       "725            6.0                   155.0     40198.0              12.0           0.0               0.0050                         740.0        0     No\n",
       "633            3.0                    71.0     18278.0              13.0           0.0               0.0053                         804.0        0     No\n",
       "210            2.0                    85.0     17158.0              11.0           0.0               0.0026                         537.0        0     No\n",
       "375            5.0                  1309.0    359054.0               9.0           0.0               0.0029                         669.0        0     No"
      ]
     },
     "execution_count": 78,
     "metadata": {},
     "output_type": "execute_result"
    }
   ],
   "source": [
    "train_df = X_train.copy()\n",
    "test_df = X_test.copy()\n",
    "train_df['At_Risk'] = y_train\n",
    "test_df['At_Risk'] = y_test\n",
    "\n",
    "# Create Column for those going to Hospital \n",
    "train_df['Going?'] = train_df['At_Risk'].apply(lambda x: (x and 'Yes') or 'No')\n",
    "train_df.head(5)"
   ]
  },
  {
   "cell_type": "code",
   "execution_count": 79,
   "metadata": {},
   "outputs": [
    {
     "name": "stderr",
     "output_type": "stream",
     "text": [
      "/anaconda3/lib/python3.7/site-packages/statsmodels/nonparametric/kde.py:488: RuntimeWarning: invalid value encountered in true_divide\n",
      "  binned = fast_linbin(X, a, b, gridsize) / (delta * nobs)\n",
      "/anaconda3/lib/python3.7/site-packages/statsmodels/nonparametric/kdetools.py:34: RuntimeWarning: invalid value encountered in double_scalars\n",
      "  FAC1 = 2*(np.pi*bw/RANGE)**2\n",
      "/anaconda3/lib/python3.7/site-packages/numpy/core/fromnumeric.py:83: RuntimeWarning: invalid value encountered in reduce\n",
      "  return ufunc.reduce(obj, axis, dtype, out, **passkwargs)\n"
     ]
    },
    {
     "data": {
      "text/plain": [
       "<seaborn.axisgrid.PairGrid at 0x1a2431ec18>"
      ]
     },
     "execution_count": 79,
     "metadata": {},
     "output_type": "execute_result"
    },
    {
     "data": {
      "image/png": "[encoded data removed]",
      "text/plain": [
       "<Figure size 1493.36x1440 with 72 Axes>"
      ]
     },
     "metadata": {
      "needs_background": "light"
     },
     "output_type": "display_data"
    }
   ],
   "source": [
    "#Identify features that drive model\n",
    "\n",
    "sns.pairplot(train_df, hue='Going?')"
   ]
  },
  {
   "cell_type": "code",
   "execution_count": 81,
   "metadata": {},
   "outputs": [
    {
     "name": "stderr",
     "output_type": "stream",
     "text": [
      "/anaconda3/lib/python3.7/site-packages/sklearn/utils/validation.py:761: DataConversionWarning: A column-vector y was passed when a 1d array was expected. Please change the shape of y to (n_samples, ), for example using ravel().\n",
      "  y = column_or_1d(y, warn=True)\n",
      "/anaconda3/lib/python3.7/site-packages/sklearn/model_selection/_split.py:2053: FutureWarning: You should specify a value for 'cv' instead of relying on the default value. The default value will change from 3 to 5 in version 0.22.\n",
      "  warnings.warn(CV_WARNING, FutureWarning)\n",
      "/anaconda3/lib/python3.7/site-packages/sklearn/linear_model/logistic.py:758: ConvergenceWarning: lbfgs failed to converge. Increase the number of iterations.\n",
      "  \"of iterations.\", ConvergenceWarning)\n",
      "/anaconda3/lib/python3.7/site-packages/sklearn/linear_model/logistic.py:758: ConvergenceWarning: lbfgs failed to converge. Increase the number of iterations.\n",
      "  \"of iterations.\", ConvergenceWarning)\n"
     ]
    },
    {
     "data": {
      "text/plain": [
       "LogisticRegressionCV(Cs=10, class_weight=None, cv='warn', dual=False,\n",
       "           fit_intercept=True, intercept_scaling=1.0, max_iter=100,\n",
       "           multi_class='warn', n_jobs=None, penalty='l2',\n",
       "           random_state=None, refit=True, scoring=None, solver='lbfgs',\n",
       "           tol=0.0001, verbose=0)"
      ]
     },
     "execution_count": 81,
     "metadata": {},
     "output_type": "execute_result"
    }
   ],
   "source": [
    "\n",
    "log_reg = LogisticRegressionCV()\n",
    "log_reg.fit(X_train, y_train)"
   ]
  },
  {
   "cell_type": "code",
   "execution_count": 82,
   "metadata": {},
   "outputs": [
    {
     "data": {
      "text/plain": [
       "1.0"
      ]
     },
     "execution_count": 82,
     "metadata": {},
     "output_type": "execute_result"
    }
   ],
   "source": [
    "log_reg.score(X_train, y_train)"
   ]
  },
  {
   "cell_type": "code",
   "execution_count": 291,
   "metadata": {},
   "outputs": [
    {
     "data": {
      "image/png": "[encoded data removed]",
      "text/plain": [
       "<Figure size 432x288 with 1 Axes>"
      ]
     },
     "metadata": {
      "needs_background": "light"
     },
     "output_type": "display_data"
    }
   ],
   "source": [
    "feature = train_df[['Avg_Days_Over']].values\n",
    "prediction_hard = log_reg.predict(feature)\n",
    "\n",
    "visit_mask = (train_df['Going?'] == 'Yes').values\n",
    "\n",
    "plt.plot(feature[visit_mask], prediction_hard[visit_mask], 'mo', label='Probably Going', alpha=0.2)\n",
    "plt.plot(feature[~visit_mask], prediction_hard[~visit_mask], 'ko', label='Probably Not', alpha=0.2)\n",
    "plt.ylim(-0.05, 1.05)\n",
    "plt.xlabel('Daily PM 2.5 Levels Over NAAQ Standard (Avg.)')\n",
    "plt.ylabel('Prediction (1=Yes)')\n",
    "plt.title('Asthma and PM 2.5 National Ambient Air Quality Standard')\n",
    "plt.legend(loc='lower right');\n",
    "#sns_plot.savefig(\"Asthma_Avg.svg\")"
   ]
  },
  {
   "cell_type": "markdown",
   "metadata": {},
   "source": [
    "#### Hard Cut Off: 14-16 PM 2.5"
   ]
  },
  {
   "cell_type": "code",
   "execution_count": 753,
   "metadata": {},
   "outputs": [
    {
     "data": {
      "image/png": "[encoded data removed]",
      "text/plain": [
       "<Figure size 432x288 with 1 Axes>"
      ]
     },
     "metadata": {
      "needs_background": "light"
     },
     "output_type": "display_data"
    }
   ],
   "source": [
    "prediction_soft = log_reg.predict_proba(feature)[:, 1]\n",
    "\n",
    "plt.plot(feature[visit_mask], prediction_soft[visit_mask], 'mo', label='Probably Going',alpha=0.4)\n",
    "plt.plot(feature[~visit_mask], prediction_soft[~visit_mask], 'ko', label='Probably Not',alpha=0.4)\n",
    "plt.ylim(-0.05, 1.05)\n",
    "plt.xlabel('Daily PM 2.5 Levels Over NAAQ Standard (Avg.)')\n",
    "plt.ylabel('Prediction (1=Yes)')\n",
    "plt.title('Asthma and PM 2.5 National Ambient Air Quality Standard')\n",
    "plt.legend(loc='lower right');"
   ]
  },
  {
   "cell_type": "code",
   "execution_count": 754,
   "metadata": {},
   "outputs": [
    {
     "data": {
      "text/plain": [
       "array([[673,  28],\n",
       "       [316,  42]])"
      ]
     },
     "execution_count": 754,
     "metadata": {},
     "output_type": "execute_result"
    }
   ],
   "source": [
    "confusion_matrix(y_train, prediction_hard)"
   ]
  },
  {
   "cell_type": "markdown",
   "metadata": {},
   "source": [
    "## Logistic Regression (All Features)"
   ]
  },
  {
   "cell_type": "code",
   "execution_count": 90,
   "metadata": {},
   "outputs": [
    {
     "name": "stderr",
     "output_type": "stream",
     "text": [
      "/anaconda3/lib/python3.7/site-packages/sklearn/utils/validation.py:761: DataConversionWarning: A column-vector y was passed when a 1d array was expected. Please change the shape of y to (n_samples, ), for example using ravel().\n",
      "  y = column_or_1d(y, warn=True)\n",
      "/anaconda3/lib/python3.7/site-packages/sklearn/model_selection/_split.py:2053: FutureWarning: You should specify a value for 'cv' instead of relying on the default value. The default value will change from 3 to 5 in version 0.22.\n",
      "  warnings.warn(CV_WARNING, FutureWarning)\n"
     ]
    },
    {
     "data": {
      "text/plain": [
       "LogisticRegressionCV(Cs=10, class_weight=None, cv='warn', dual=False,\n",
       "           fit_intercept=True, intercept_scaling=1.0, max_iter=100,\n",
       "           multi_class='warn', n_jobs=None, penalty='l2',\n",
       "           random_state=None, refit=True, scoring=None, solver='lbfgs',\n",
       "           tol=0.0001, verbose=0)"
      ]
     },
     "execution_count": 90,
     "metadata": {},
     "output_type": "execute_result"
    }
   ],
   "source": [
    "std_scale = StandardScaler() # Multiple features require scaling\n",
    "\n",
    "X_train = train_df[['Avg_Days_Over', 'PM2.5_Annual_Avg', 'Yearly_AVisits_Avg-PM2.5_lvl','Yearly_Asthma_EDVisits', 'A/Pop_Avg-PM2.5_lvl']]\n",
    "X_test = test_df[['Avg_Days_Over', 'PM2.5_Annual_Avg', 'Yearly_AVisits_Avg-PM2.5_lvl', 'Yearly_Asthma_EDVisits', 'A/Pop_Avg-PM2.5_lvl']]\n",
    "X_train_scaled = std_scale.fit_transform(X_train)\n",
    "X_test_scaled = std_scale.transform(X_test)\n",
    "\n",
    "log_reg4 = LogisticRegressionCV()\n",
    "log_reg4.fit(X_train_scaled, y_train)"
   ]
  },
  {
   "cell_type": "markdown",
   "metadata": {},
   "source": [
    "### Hard Prediction"
   ]
  },
  {
   "cell_type": "code",
   "execution_count": 91,
   "metadata": {},
   "outputs": [
    {
     "data": {
      "image/png": "[encoded data removed]",
      "text/plain": [
       "<Figure size 432x288 with 1 Axes>"
      ]
     },
     "metadata": {
      "needs_background": "light"
     },
     "output_type": "display_data"
    }
   ],
   "source": [
    "feature = X_train_scaled\n",
    "prediction_hard = log_reg4.predict(feature)\n",
    "\n",
    "visit_mask = (train_df['Going?'] == 'Yes').values\n",
    "\n",
    "plt.plot(feature[visit_mask], prediction_hard[visit_mask], 'mo', label='Probably Going', alpha=0.2)\n",
    "plt.plot(feature[~visit_mask], prediction_hard[~visit_mask], 'ko', label='Probably Not', alpha=0.2)\n",
    "plt.ylim(-0.05, 1.05)\n",
    "plt.xlabel('Daily PM 2.5 Levels Over NAAQ Standard (Avg.)')\n",
    "plt.ylabel('Prediction (1=Yes)')\n",
    "plt.title('Asthma and PM 2.5 National Ambient Air Quality Standard')\n",
    "plt.legend(loc='lower right');"
   ]
  },
  {
   "cell_type": "markdown",
   "metadata": {},
   "source": [
    "### Soft Prediction"
   ]
  },
  {
   "cell_type": "code",
   "execution_count": 99,
   "metadata": {},
   "outputs": [
    {
     "data": {
      "image/png": "[encoded data removed]",
      "text/plain": [
       "<Figure size 432x288 with 1 Axes>"
      ]
     },
     "metadata": {
      "needs_background": "light"
     },
     "output_type": "display_data"
    }
   ],
   "source": [
    "prediction_soft = log_reg4.predict_proba(feature)[:, 1]\n",
    "\n",
    "plt.plot(feature[visit_mask], prediction_soft[visit_mask], 'bo', label='Probably Going',alpha=0.4)\n",
    "plt.plot(feature[~visit_mask], prediction_soft[~visit_mask], 'ro', label='Probably Not',alpha=0.4)\n",
    "plt.ylim(-0.05, 1.05)\n",
    "plt.xlabel('Daily PM 2.5 Levels Over NAAQ Standard (Avg.)')\n",
    "plt.ylabel('Prediction (1=Yes)')\n",
    "plt.title('Asthma and PM 2.5 National Ambient Air Quality Standard')\n",
    "plt.legend(loc='lower right');"
   ]
  },
  {
   "cell_type": "code",
   "execution_count": 96,
   "metadata": {},
   "outputs": [
    {
     "data": {
      "text/plain": [
       "array([[646,  55],\n",
       "       [240, 118]])"
      ]
     },
     "execution_count": 96,
     "metadata": {},
     "output_type": "execute_result"
    }
   ],
   "source": [
    "confusion_matrix(y_train, prediction_hard)\n"
   ]
  },
  {
   "cell_type": "code",
   "execution_count": 95,
   "metadata": {},
   "outputs": [
    {
     "data": {
      "text/plain": [
       "0.7214353163361662"
      ]
     },
     "execution_count": 95,
     "metadata": {},
     "output_type": "execute_result"
    }
   ],
   "source": [
    "log_reg4.score(X_train_scaled, y_train)"
   ]
  },
  {
   "cell_type": "code",
   "execution_count": 93,
   "metadata": {},
   "outputs": [
    {
     "data": {
      "text/plain": [
       "array([[ 0.17423326,  0.00579759, -0.45886629,  0.88123213,  0.77702874]])"
      ]
     },
     "execution_count": 93,
     "metadata": {},
     "output_type": "execute_result"
    }
   ],
   "source": [
    "log_reg4.coef_"
   ]
  },
  {
   "cell_type": "code",
   "execution_count": 773,
   "metadata": {},
   "outputs": [
    {
     "data": {
      "text/plain": [
       "[(-0.4588662945785976, 'Yearly_AVisits_Avg-PM2.5_lvl'),\n",
       " (0.005797591444663796, 'PM2.5_Annual_Avg'),\n",
       " (0.17423326064194922, 'Avg_Days_Over'),\n",
       " (0.7770287358881555, 'A/Pop_Avg-PM2.5_lvl'),\n",
       " (0.8812321262412751, 'Yearly_Asthma_EDVisits')]"
      ]
     },
     "execution_count": 773,
     "metadata": {},
     "output_type": "execute_result"
    }
   ],
   "source": [
    "coeff_list = list(zip(log_reg4.coef_.reshape(-1), X_test.columns.values))\n",
    "\n",
    "sorted(coeff_list, key = lambda x: x[0])"
   ]
  },
  {
   "cell_type": "code",
   "execution_count": 177,
   "metadata": {},
   "outputs": [
    {
     "data": {
      "text/plain": [
       "0.6754716981132075"
      ]
     },
     "execution_count": 177,
     "metadata": {},
     "output_type": "execute_result"
    }
   ],
   "source": [
    "decisiontree = DecisionTreeClassifier(max_depth=1)\n",
    "decisiontree.fit(X_train_scaled, y_train)\n",
    "decisiontree.score(X_test, y_test)"
   ]
  },
  {
   "cell_type": "code",
   "execution_count": 164,
   "metadata": {},
   "outputs": [
    {
     "name": "stderr",
     "output_type": "stream",
     "text": [
      "/anaconda3/lib/python3.7/site-packages/sklearn/ensemble/forest.py:246: FutureWarning: The default value of n_estimators will change from 10 in version 0.20 to 100 in 0.22.\n",
      "  \"10 in version 0.20 to 100 in 0.22.\", FutureWarning)\n",
      "/anaconda3/lib/python3.7/site-packages/ipykernel_launcher.py:2: DataConversionWarning: A column-vector y was passed when a 1d array was expected. Please change the shape of y to (n_samples,), for example using ravel().\n",
      "  \n"
     ]
    },
    {
     "data": {
      "text/plain": [
       "0.4188679245283019"
      ]
     },
     "execution_count": 164,
     "metadata": {},
     "output_type": "execute_result"
    }
   ],
   "source": [
    "randomforest = RandomForestClassifier()\n",
    "randomforest.fit(X_train_scaled, y_train)\n",
    "randomforest.score(X_test, y_test)"
   ]
  },
  {
   "cell_type": "code",
   "execution_count": 165,
   "metadata": {},
   "outputs": [
    {
     "name": "stderr",
     "output_type": "stream",
     "text": [
      "/anaconda3/lib/python3.7/site-packages/sklearn/utils/validation.py:761: DataConversionWarning: A column-vector y was passed when a 1d array was expected. Please change the shape of y to (n_samples, ), for example using ravel().\n",
      "  y = column_or_1d(y, warn=True)\n",
      "/anaconda3/lib/python3.7/site-packages/sklearn/svm/base.py:922: ConvergenceWarning: Liblinear failed to converge, increase the number of iterations.\n",
      "  \"the number of iterations.\", ConvergenceWarning)\n"
     ]
    },
    {
     "data": {
      "text/plain": [
       "0.7169811320754716"
      ]
     },
     "execution_count": 165,
     "metadata": {},
     "output_type": "execute_result"
    }
   ],
   "source": [
    "linearsvc = LinearSVC()\n",
    "linearsvc.fit(X_train_scaled, y_train)\n",
    "linearsvc.score(X_test, y_test)"
   ]
  },
  {
   "cell_type": "code",
   "execution_count": 170,
   "metadata": {},
   "outputs": [
    {
     "name": "stderr",
     "output_type": "stream",
     "text": [
      "/anaconda3/lib/python3.7/site-packages/ipykernel_launcher.py:2: DataConversionWarning: A column-vector y was passed when a 1d array was expected. Please change the shape of y to (n_samples, ), for example using ravel().\n",
      "  \n"
     ]
    },
    {
     "data": {
      "text/plain": [
       "0.7132075471698113"
      ]
     },
     "execution_count": 170,
     "metadata": {},
     "output_type": "execute_result"
    }
   ],
   "source": [
    "knn = KNeighborsClassifier(n_neighbors=2)\n",
    "knn.fit(X_train_scaled, y_train)\n",
    "knn.score(X_test, y_test)"
   ]
  },
  {
   "cell_type": "code",
   "execution_count": 774,
   "metadata": {},
   "outputs": [
    {
     "data": {
      "image/png": "[encoded data removed]",
      "text/plain": [
       "<Figure size 900x600 with 2 Axes>"
      ]
     },
     "metadata": {
      "needs_background": "light"
     },
     "output_type": "display_data"
    }
   ],
   "source": [
    "labels = ['Yes', 'No']\n",
    "logit_confusion = confusion_matrix(y_test, log_reg4.predict(X_test))\n",
    "plt.figure(dpi=150)\n",
    "sns.heatmap(logit_confusion, cmap=plt.cm.YlGnBu, annot=True, square=True,\n",
    "           xticklabels=labels,\n",
    "           yticklabels=labels)\n",
    "\n",
    "plt.xlabel('Predicted')\n",
    "plt.ylabel('Actual')\n",
    "plt.title('Logistic Regression confusion matrix');"
   ]
  },
  {
   "cell_type": "markdown",
   "metadata": {},
   "source": [
    "# KNN"
   ]
  },
  {
   "cell_type": "code",
   "execution_count": 775,
   "metadata": {},
   "outputs": [
    {
     "name": "stdout",
     "output_type": "stream",
     "text": [
      "The score for kNN is\n",
      "Training:  33.99%\n",
      "Test set:  33.58%\n"
     ]
    },
    {
     "name": "stderr",
     "output_type": "stream",
     "text": [
      "/anaconda3/lib/python3.7/site-packages/ipykernel_launcher.py:2: DataConversionWarning: A column-vector y was passed when a 1d array was expected. Please change the shape of y to (n_samples, ), for example using ravel().\n",
      "  \n"
     ]
    }
   ],
   "source": [
    "knn = KNeighborsClassifier(n_neighbors=3)\n",
    "knn.fit(X_train_scaled, y_train)\n",
    "print(\"The score for kNN is\")\n",
    "print(\"Training: {:6.2f}%\".format(100*knn.score(X_train, y_train)))\n",
    "print(\"Test set: {:6.2f}%\".format(100*knn.score(X_test, y_test)))"
   ]
  },
  {
   "cell_type": "code",
   "execution_count": 776,
   "metadata": {},
   "outputs": [
    {
     "data": {
      "image/png": "[encoded data removed]",
      "text/plain": [
       "<Figure size 900x600 with 2 Axes>"
      ]
     },
     "metadata": {
      "needs_background": "light"
     },
     "output_type": "display_data"
    }
   ],
   "source": [
    "# Print confusion matrix for kNN\n",
    "labels = ['Yes', 'No']\n",
    "knn_confusion = confusion_matrix(y_test, knn.predict(X_test))\n",
    "plt.figure(dpi=150)\n",
    "sns.heatmap(knn_confusion, cmap=plt.cm.YlGnBu, annot=True, square=True,\n",
    "           xticklabels=labels,\n",
    "           yticklabels=labels)\n",
    "\n",
    "plt.xlabel('Predicted')\n",
    "plt.ylabel('Actual')\n",
    "plt.title('kNN confusion matrix');"
   ]
  },
  {
   "cell_type": "code",
   "execution_count": 777,
   "metadata": {},
   "outputs": [
    {
     "name": "stdout",
     "output_type": "stream",
     "text": [
      "At Threshold .5\n"
     ]
    },
    {
     "data": {
      "image/png": "[encoded data removed]",
      "text/plain": [
       "<Figure size 480x320 with 2 Axes>"
      ]
     },
     "metadata": {
      "needs_background": "light"
     },
     "output_type": "display_data"
    }
   ],
   "source": [
    "print('At Threshold .5')\n",
    "make_confusion_matrix(knn)"
   ]
  },
  {
   "cell_type": "code",
   "execution_count": 778,
   "metadata": {},
   "outputs": [
    {
     "name": "stdout",
     "output_type": "stream",
     "text": [
      "At Threshold .75\n"
     ]
    },
    {
     "data": {
      "image/png": "[encoded data removed]",
      "text/plain": [
       "<Figure size 480x320 with 2 Axes>"
      ]
     },
     "metadata": {
      "needs_background": "light"
     },
     "output_type": "display_data"
    }
   ],
   "source": [
    "print('At Threshold .75')\n",
    "make_confusion_matrix(knn, .75)"
   ]
  },
  {
   "cell_type": "code",
   "execution_count": 779,
   "metadata": {},
   "outputs": [
    {
     "data": {
      "image/png": "[encoded data removed]",
      "text/plain": [
       "<Figure size 480x320 with 1 Axes>"
      ]
     },
     "metadata": {
      "needs_background": "light"
     },
     "output_type": "display_data"
    }
   ],
   "source": [
    "precision_curve, recall_curve, threshold_curve = precision_recall_curve(y_test, knn.predict_proba(X_test)[:,1] )\n",
    "\n",
    "plt.figure(dpi=80)\n",
    "plt.plot(threshold_curve, precision_curve[1:],label='precision')\n",
    "plt.plot(threshold_curve, recall_curve[1:], label='recall')\n",
    "plt.legend(loc='lower left')\n",
    "plt.xlabel('Threshold (above this probability, label as No)');\n",
    "plt.title('Precision and Recall Curves');"
   ]
  },
  {
   "cell_type": "code",
   "execution_count": 279,
   "metadata": {},
   "outputs": [],
   "source": [
    "new_united10['Going?'] = new_united10['At_Risk'].apply(lambda x: (x and 'Yes') or 'No')"
   ]
  },
  {
   "cell_type": "code",
   "execution_count": 284,
   "metadata": {},
   "outputs": [],
   "source": [
    "#new_united10.drop('Going?', axis=1,inplace=True)"
   ]
  },
  {
   "cell_type": "markdown",
   "metadata": {},
   "source": [
    "# Class Imbalance"
   ]
  },
  {
   "cell_type": "code",
   "execution_count": 47,
   "metadata": {},
   "outputs": [
    {
     "data": {
      "text/plain": [
       "[Text(0, 0.5, 'Samples')]"
      ]
     },
     "execution_count": 47,
     "metadata": {},
     "output_type": "execute_result"
    },
    {
     "data": {
      "image/png": "[encoded data removed]",
      "text/plain": [
       "<Figure size 432x288 with 1 Axes>"
      ]
     },
     "metadata": {
      "needs_background": "light"
     },
     "output_type": "display_data"
    }
   ],
   "source": [
    "#Evidence of class imbalance\n",
    "\n",
    "sns.distplot(new_united10['At_Risk'], kde=False, color=\"Green\").set(ylabel='Samples')"
   ]
  },
  {
   "cell_type": "code",
   "execution_count": 48,
   "metadata": {},
   "outputs": [],
   "source": [
    "np.random.seed(42)\n",
    "total_users = new_united10['PM2.5_Annual_Avg'].unique() \n",
    "test_users = np.random.choice(total_users, size=int(total_users.shape[0] * .20))\n",
    "\n",
    "df_X_tr, df_X_te = new_united10[~new_united10['PM2.5_Annual_Avg'].isin(test_users)], new_united10[new_united10['PM2.5_Annual_Avg'].isin(test_users)]\n",
    "\n",
    "y_tr, y_te = df_X_tr['At_Risk'], df_X_te['At_Risk']\n",
    "X_tr, X_te = df_X_tr.drop(['A_Visits/Pop','Population', 'At_Risk'],axis=1), \\\n",
    "             df_X_te.drop(['A_Visits/Pop','Population', 'At_Risk'],axis=1), \\"
   ]
  },
  {
   "cell_type": "markdown",
   "metadata": {},
   "source": [
    "### Resampling The Data"
   ]
  },
  {
   "cell_type": "code",
   "execution_count": 294,
   "metadata": {},
   "outputs": [
    {
     "name": "stdout",
     "output_type": "stream",
     "text": [
      "Logistic Regression on SMOTE Train Data; Test F1: 0.547, Test AUC: 0.754\n"
     ]
    },
    {
     "name": "stderr",
     "output_type": "stream",
     "text": [
      "/anaconda3/lib/python3.7/site-packages/imblearn/utils/_validation.py:257: UserWarning: After over-sampling, the number of samples (1776) in class 1 will be larger than the number of samples in the majority class (class #0 -> 880)\n",
      "  n_samples_majority))\n"
     ]
    }
   ],
   "source": [
    "import imblearn.over_sampling\n",
    "\n",
    "n_pos = np.sum(y_tr == 1)\n",
    "n_neg = np.sum(y_tr == 0)\n",
    "ratio = {1 : n_pos * 4, 0 : n_neg} \n",
    "smote = imblearn.over_sampling.SMOTE(ratio=ratio, random_state = 42)\n",
    "\n",
    "X_tr_smote, y_tr_smote = smote.fit_sample(X_tr, y_tr)\n",
    "\n",
    "lr_smote = LogisticRegression(solver='liblinear') \n",
    "lr_smote.fit(X_tr_smote, y_tr_smote)\n",
    "\n",
    "print('Logistic Regression on SMOTE Train Data; Test F1: %.3f, Test AUC: %.3f' % \\\n",
    "      (f1_score(y_te, lr_smote.predict(X_te)), roc_auc_score(y_te, lr_smote.predict_proba(X_te)[:,1])))"
   ]
  },
  {
   "cell_type": "code",
   "execution_count": 317,
   "metadata": {},
   "outputs": [
    {
     "name": "stdout",
     "output_type": "stream",
     "text": [
      "Simple Logistic Regression; Test F1: 0.372, Test AUC: 0.765\n",
      "Logistic Regression on Oversampled Train Data; Test F1: 0.514, Test AUC: 0.771\n"
     ]
    },
    {
     "name": "stderr",
     "output_type": "stream",
     "text": [
      "/anaconda3/lib/python3.7/site-packages/imblearn/utils/_validation.py:257: UserWarning: After over-sampling, the number of samples (1776) in class 1 will be larger than the number of samples in the majority class (class #0 -> 522)\n",
      "  n_samples_majority))\n",
      "/anaconda3/lib/python3.7/site-packages/imblearn/utils/_validation.py:257: UserWarning: After over-sampling, the number of samples (880) in class 0 will be larger than the number of samples in the majority class (class #0 -> 522)\n",
      "  n_samples_majority))\n"
     ]
    }
   ],
   "source": [
    "ROS = imblearn.over_sampling.RandomOverSampler(ratio = ratio, random_state=42) \n",
    "    \n",
    "X_tr_rs, y_tr_rs = ROS.fit_sample(X_tr, y_tr)\n",
    "\n",
    "lr = LogisticRegression(solver='liblinear') \n",
    "lr.fit(X_tr, y_tr)\n",
    "\n",
    "print('Simple Logistic Regression; Test F1: %.3f, Test AUC: %.3f' % \\\n",
    "      (f1_score(y_te, lr.predict(X_te)), roc_auc_score(y_te, lr.predict_proba(X_te)[:,1]))) \n",
    "\n",
    "lr_os = LogisticRegression(solver='liblinear') \n",
    "lr_os.fit(X_tr_rs, y_tr_rs)\n",
    "\n",
    "print('Logistic Regression on Oversampled Train Data; Test F1: %.3f, Test AUC: %.3f' % \\\n",
    "      (f1_score(y_te, lr_os.predict(X_te)), roc_auc_score(y_te, lr_os.predict_proba(X_te)[:,1])))"
   ]
  },
  {
   "cell_type": "code",
   "execution_count": 288,
   "metadata": {},
   "outputs": [
    {
     "data": {
      "text/plain": [
       "1.0"
      ]
     },
     "execution_count": 288,
     "metadata": {},
     "output_type": "execute_result"
    }
   ],
   "source": [
    "lr_os.score(X_te, y_te)"
   ]
  },
  {
   "cell_type": "code",
   "execution_count": 277,
   "metadata": {},
   "outputs": [
    {
     "data": {
      "text/html": [
       "<div>\n",
       "<style scoped>\n",
       "    .dataframe tbody tr th:only-of-type {\n",
       "        vertical-align: middle;\n",
       "    }\n",
       "\n",
       "    .dataframe tbody tr th {\n",
       "        vertical-align: top;\n",
       "    }\n",
       "\n",
       "    .dataframe thead th {\n",
       "        text-align: right;\n",
       "    }\n",
       "</style>\n",
       "<table border=\"1\" class=\"dataframe\">\n",
       "  <thead>\n",
       "    <tr style=\"text-align: right;\">\n",
       "      <th></th>\n",
       "      <th>Avg_Days_Over</th>\n",
       "      <th>Yearly_Asthma_EDVisits</th>\n",
       "      <th>PM2.5_Annual_Avg</th>\n",
       "      <th>A/Pop_Avg-PM2.5_lvl</th>\n",
       "      <th>Yearly_AVisits_Avg-PM2.5_lvl</th>\n",
       "    </tr>\n",
       "  </thead>\n",
       "  <tbody>\n",
       "    <tr>\n",
       "      <th>0</th>\n",
       "      <td>114.0</td>\n",
       "      <td>12050.0</td>\n",
       "      <td>19.0</td>\n",
       "      <td>0.01</td>\n",
       "      <td>8262.0</td>\n",
       "    </tr>\n",
       "    <tr>\n",
       "      <th>1</th>\n",
       "      <td>105.0</td>\n",
       "      <td>4473.0</td>\n",
       "      <td>19.0</td>\n",
       "      <td>0.01</td>\n",
       "      <td>8262.0</td>\n",
       "    </tr>\n",
       "    <tr>\n",
       "      <th>2</th>\n",
       "      <td>108.0</td>\n",
       "      <td>9079.0</td>\n",
       "      <td>21.0</td>\n",
       "      <td>0.00</td>\n",
       "      <td>9079.0</td>\n",
       "    </tr>\n",
       "    <tr>\n",
       "      <th>3</th>\n",
       "      <td>105.0</td>\n",
       "      <td>2388.0</td>\n",
       "      <td>17.0</td>\n",
       "      <td>0.01</td>\n",
       "      <td>3439.0</td>\n",
       "    </tr>\n",
       "    <tr>\n",
       "      <th>4</th>\n",
       "      <td>78.0</td>\n",
       "      <td>6759.0</td>\n",
       "      <td>17.0</td>\n",
       "      <td>0.01</td>\n",
       "      <td>3439.0</td>\n",
       "    </tr>\n",
       "  </tbody>\n",
       "</table>\n",
       "</div>"
      ],
      "text/plain": [
       "   Avg_Days_Over  Yearly_Asthma_EDVisits  PM2.5_Annual_Avg  A/Pop_Avg-PM2.5_lvl  Yearly_AVisits_Avg-PM2.5_lvl\n",
       "0          114.0                 12050.0              19.0                 0.01                        8262.0\n",
       "1          105.0                  4473.0              19.0                 0.01                        8262.0\n",
       "2          108.0                  9079.0              21.0                 0.00                        9079.0\n",
       "3          105.0                  2388.0              17.0                 0.01                        3439.0\n",
       "4           78.0                  6759.0              17.0                 0.01                        3439.0"
      ]
     },
     "execution_count": 277,
     "metadata": {},
     "output_type": "execute_result"
    }
   ],
   "source": [
    "X_te.head()"
   ]
  },
  {
   "cell_type": "code",
   "execution_count": 319,
   "metadata": {},
   "outputs": [
    {
     "name": "stdout",
     "output_type": "stream",
     "text": [
      "Score: 0.6697588126159555\n",
      "Balanced class weights Logistic Regression Test F1: 0.606, Test AUC: 0.770\n"
     ]
    }
   ],
   "source": [
    "lr_balanced.fit(X_tr_rs, y_tr_rs)\n",
    "print(\"Score:\",lr_balanced.score(X_te, y_te))\n",
    "#print(\"Hard Predictions:\", lr_balanced.predict(X_te))\n",
    "print('Balanced class weights Logistic Regression Test F1: %.3f, Test AUC: %.3f' % \\\n",
    "      (f1_score(y_te, lr_balanced.predict(X_te)), roc_auc_score(y_te, lr_balanced.predict_proba(X_te)[:,1])))"
   ]
  },
  {
   "cell_type": "code",
   "execution_count": 325,
   "metadata": {},
   "outputs": [
    {
     "data": {
      "text/plain": [
       "(785, 1)"
      ]
     },
     "execution_count": 325,
     "metadata": {},
     "output_type": "execute_result"
    }
   ],
   "source": [
    "df_X_tr[['Avg_Days_Over']].shape"
   ]
  },
  {
   "cell_type": "code",
   "execution_count": 327,
   "metadata": {},
   "outputs": [
    {
     "data": {
      "text/plain": [
       "([array([224., 112.,  59., 236., 881., 617., 310., 182.,  35.,   0.]),\n",
       "  array([  0.,  35., 182., 310., 617., 881., 236.,  59., 112., 224.])],\n",
       " array([1.27498012e-09, 1.00000001e-01, 2.00000001e-01, 3.00000001e-01,\n",
       "        4.00000000e-01, 5.00000000e-01, 6.00000000e-01, 6.99999999e-01,\n",
       "        7.99999999e-01, 8.99999999e-01, 9.99999999e-01]),\n",
       " <a list of 2 Lists of Patches objects>)"
      ]
     },
     "execution_count": 327,
     "metadata": {},
     "output_type": "execute_result"
    },
    {
     "data": {
      "image/png": "[encoded data removed]",
      "text/plain": [
       "<Figure size 432x288 with 1 Axes>"
      ]
     },
     "metadata": {
      "needs_background": "light"
     },
     "output_type": "display_data"
    }
   ],
   "source": [
    "plt.hist(lr_balanced.predict_proba(X_tr_rs))"
   ]
  },
  {
   "cell_type": "code",
   "execution_count": 304,
   "metadata": {},
   "outputs": [
    {
     "name": "stderr",
     "output_type": "stream",
     "text": [
      "/anaconda3/lib/python3.7/site-packages/ipykernel_launcher.py:1: FutureWarning: Using a non-tuple sequence for multidimensional indexing is deprecated; use `arr[tuple(seq)]` instead of `arr[seq]`. In the future this will be interpreted as an array index, `arr[np.array(seq)]`, which will result either in an error or a different result.\n",
      "  \"\"\"Entry point for launching an IPython kernel.\n"
     ]
    },
    {
     "ename": "IndexError",
     "evalue": "only integers, slices (`:`), ellipsis (`...`), numpy.newaxis (`None`) and integer or boolean arrays are valid indices",
     "output_type": "error",
     "traceback": [
      "\u001b[0;31m---------------------------------------------------------------------------\u001b[0m",
      "\u001b[0;31mIndexError\u001b[0m                                Traceback (most recent call last)",
      "\u001b[0;32m<ipython-input-304-b176ace4e429>\u001b[0m in \u001b[0;36m<module>\u001b[0;34m\u001b[0m\n\u001b[0;32m----> 1\u001b[0;31m \u001b[0mfeature\u001b[0m \u001b[0;34m=\u001b[0m \u001b[0mX_tr_rs\u001b[0m\u001b[0;34m[\u001b[0m\u001b[0;34m[\u001b[0m\u001b[0;34m'Avg_Days_Over'\u001b[0m\u001b[0;34m]\u001b[0m\u001b[0;34m]\u001b[0m\u001b[0;34m.\u001b[0m\u001b[0mvalues\u001b[0m\u001b[0;34m\u001b[0m\u001b[0;34m\u001b[0m\u001b[0m\n\u001b[0m\u001b[1;32m      2\u001b[0m \u001b[0mprediction_hard\u001b[0m \u001b[0;34m=\u001b[0m \u001b[0mlr_balanced\u001b[0m\u001b[0;34m.\u001b[0m\u001b[0mpredict\u001b[0m\u001b[0;34m(\u001b[0m\u001b[0mfeature\u001b[0m\u001b[0;34m)\u001b[0m\u001b[0;34m\u001b[0m\u001b[0;34m\u001b[0m\u001b[0m\n\u001b[1;32m      3\u001b[0m \u001b[0;34m\u001b[0m\u001b[0m\n\u001b[1;32m      4\u001b[0m \u001b[0mX_tr_rs\u001b[0m\u001b[0;34m[\u001b[0m\u001b[0;34m'Going?'\u001b[0m\u001b[0;34m]\u001b[0m \u001b[0;34m=\u001b[0m \u001b[0mdf_X_tr\u001b[0m\u001b[0;34m[\u001b[0m\u001b[0;34m'At_Risk'\u001b[0m\u001b[0;34m]\u001b[0m\u001b[0;34m.\u001b[0m\u001b[0mapply\u001b[0m\u001b[0;34m(\u001b[0m\u001b[0;32mlambda\u001b[0m \u001b[0mx\u001b[0m\u001b[0;34m:\u001b[0m \u001b[0;34m(\u001b[0m\u001b[0mx\u001b[0m \u001b[0;32mand\u001b[0m \u001b[0;34m'Yes'\u001b[0m\u001b[0;34m)\u001b[0m \u001b[0;32mor\u001b[0m \u001b[0;34m'No'\u001b[0m\u001b[0;34m)\u001b[0m\u001b[0;34m\u001b[0m\u001b[0;34m\u001b[0m\u001b[0m\n\u001b[1;32m      5\u001b[0m \u001b[0mvisit_mask\u001b[0m \u001b[0;34m=\u001b[0m \u001b[0;34m(\u001b[0m\u001b[0mX_tr_rs\u001b[0m\u001b[0;34m[\u001b[0m\u001b[0;34m'Going?'\u001b[0m\u001b[0;34m]\u001b[0m \u001b[0;34m==\u001b[0m \u001b[0;34m'Yes'\u001b[0m\u001b[0;34m)\u001b[0m\u001b[0;34m.\u001b[0m\u001b[0mvalues\u001b[0m\u001b[0;34m\u001b[0m\u001b[0;34m\u001b[0m\u001b[0m\n",
      "\u001b[0;31mIndexError\u001b[0m: only integers, slices (`:`), ellipsis (`...`), numpy.newaxis (`None`) and integer or boolean arrays are valid indices"
     ]
    }
   ],
   "source": [
    "feature = X_tr_rs[['Avg_Days_Over']].values\n",
    "prediction_hard = lr_balanced.predict(feature)\n",
    "\n",
    "X_tr_rs['Going?'] = df_X_tr['At_Risk'].apply(lambda x: (x and 'Yes') or 'No')\n",
    "visit_mask = (X_tr_rs['Going?'] == 'Yes').values\n",
    "\n",
    "plt.plot(feature[visit_mask], prediction_hard[visit_mask], 'mo', label='Probably Going', alpha=0.2)\n",
    "plt.plot(feature[~visit_mask], prediction_hard[~visit_mask], 'ko', label='Probably Not', alpha=0.2)\n",
    "plt.ylim(-0.05, 1.05)\n",
    "plt.xlabel('Daily PM 2.5 Levels Over NAAQ Standard (Avg.)')\n",
    "plt.ylabel('Prediction (1=Yes)')\n",
    "plt.title('Asthma and PM 2.5 National Ambient Air Quality Standard')\n",
    "plt.legend(loc='lower right');"
   ]
  },
  {
   "cell_type": "code",
   "execution_count": 339,
   "metadata": {},
   "outputs": [
    {
     "name": "stdout",
     "output_type": "stream",
     "text": [
      "Score: 0.6957328385899815\n",
      "Balanced class weights DecisionTree Test F1: 0.637, Test AUC: 0.767\n"
     ]
    }
   ],
   "source": [
    "decisiontree = DecisionTreeClassifier(max_depth=4, class_weight='balanced')\n",
    "decisiontree.fit(X_tr_rs, y_tr_rs)\n",
    "print('Score:',decisiontree.score(X_te, y_te))\n",
    "print('Balanced class weights DecisionTree Test F1: %.3f, Test AUC: %.3f' % \\\n",
    "      (f1_score(y_te, decisiontree.predict(X_te)), roc_auc_score(y_te, decisiontree.predict_proba(X_te)[:,1])))"
   ]
  },
  {
   "cell_type": "code",
   "execution_count": 321,
   "metadata": {},
   "outputs": [
    {
     "name": "stdout",
     "output_type": "stream",
     "text": [
      "Score 0.6771799628942486\n",
      "Balanced class weights DecisionTree Test F1: 0.511, Test AUC: 0.697\n"
     ]
    },
    {
     "name": "stderr",
     "output_type": "stream",
     "text": [
      "/anaconda3/lib/python3.7/site-packages/sklearn/ensemble/forest.py:246: FutureWarning: The default value of n_estimators will change from 10 in version 0.20 to 100 in 0.22.\n",
      "  \"10 in version 0.20 to 100 in 0.22.\", FutureWarning)\n"
     ]
    }
   ],
   "source": [
    "randomforest = RandomForestClassifier(bootstrap=True)\n",
    "randomforest.fit(X_tr_rs, y_tr_rs)\n",
    "print('Score',randomforest.score(X_te, y_te))\n",
    "print('Balanced class weights DecisionTree Test F1: %.3f, Test AUC: %.3f' % \\\n",
    "      (f1_score(y_te, randomforest.predict(X_te)), roc_auc_score(y_te, randomforest.predict_proba(X_te)[:,1])))"
   ]
  },
  {
   "cell_type": "code",
   "execution_count": 333,
   "metadata": {},
   "outputs": [
    {
     "name": "stdout",
     "output_type": "stream",
     "text": [
      "Balanced class weights DecisionTree Test F1: %.3f, Test AUC: %.3f 0.5027777777777779\n"
     ]
    },
    {
     "name": "stderr",
     "output_type": "stream",
     "text": [
      "/anaconda3/lib/python3.7/site-packages/sklearn/svm/base.py:922: ConvergenceWarning: Liblinear failed to converge, increase the number of iterations.\n",
      "  \"the number of iterations.\", ConvergenceWarning)\n"
     ]
    }
   ],
   "source": [
    "linearsvc = LinearSVC()\n",
    "linearsvc.fit(X_tr_rs, y_tr_rs)\n",
    "linearsvc.score(X_te, y_te)\n",
    "print('Balanced class weights DecisionTree Test F1: %.3f, Test AUC: %.3f',(f1_score(y_te, linearsvc.predict(X_te))))"
   ]
  },
  {
   "cell_type": "code",
   "execution_count": 323,
   "metadata": {},
   "outputs": [
    {
     "name": "stdout",
     "output_type": "stream",
     "text": [
      "Score: 0.6586270871985158\n",
      "Balanced class weights DecisionTree Test F1: 0.566, Test AUC: 0.701\n"
     ]
    }
   ],
   "source": [
    "knn = KNeighborsClassifier(n_neighbors=3)\n",
    "knn.fit(X_tr_rs, y_tr_rs)\n",
    "print(\"Score:\",knn.score(X_te, y_te))\n",
    "print('Balanced class weights DecisionTree Test F1: %.3f, Test AUC: %.3f' % \\\n",
    "      (f1_score(y_te, knn.predict(X_te)), roc_auc_score(y_te, knn.predict_proba(X_te)[:,1])))"
   ]
  },
  {
   "cell_type": "markdown",
   "metadata": {},
   "source": [
    "### During Model Training - Class Weights"
   ]
  },
  {
   "cell_type": "code",
   "execution_count": 184,
   "metadata": {},
   "outputs": [
    {
     "name": "stdout",
     "output_type": "stream",
     "text": [
      "Normal Logistic Regression Test F1: 0.325, Test AUC: 0.746\n",
      "Balanced class weights Logistic Regression Test F1: 0.601, Test AUC: 0.747\n",
      "3:1 class weights Logistic Regression Test F1: 0.609, Test AUC: 0.746\n"
     ]
    }
   ],
   "source": [
    "lr = LogisticRegression(solver='liblinear') \n",
    "lr_balanced = LogisticRegression(class_weight='balanced', solver='liblinear')\n",
    "lr_4x = LogisticRegression(class_weight={1 : 2, 0 : 1}, solver='liblinear')\n",
    "\n",
    "lr.fit(X_tr, y_tr)\n",
    "print('Normal Logistic Regression Test F1: %.3f, Test AUC: %.3f' % \\\n",
    "      (f1_score(y_te, lr.predict(X_te)), roc_auc_score(y_te, lr.predict_proba(X_te)[:,1])))\n",
    "\n",
    "lr_balanced.fit(X_tr, y_tr)\n",
    "print('Balanced class weights Logistic Regression Test F1: %.3f, Test AUC: %.3f' % \\\n",
    "      (f1_score(y_te, lr_balanced.predict(X_te)), roc_auc_score(y_te, lr_balanced.predict_proba(X_te)[:,1])))\n",
    "\n",
    "lr_4x.fit(X_tr, y_tr)\n",
    "print('3:1 class weights Logistic Regression Test F1: %.3f, Test AUC: %.3f' % \\\n",
    "      (f1_score(y_te, lr_4x.predict(X_te)), roc_auc_score(y_te, lr_4x.predict_proba(X_te)[:,1])))"
   ]
  },
  {
   "cell_type": "markdown",
   "metadata": {},
   "source": [
    "### Choosing Balanced"
   ]
  },
  {
   "cell_type": "code",
   "execution_count": 813,
   "metadata": {},
   "outputs": [
    {
     "data": {
      "text/plain": [
       "array([[ 2.58479136e-02,  5.31685743e-04,  2.23884623e-01,\n",
       "         2.18312387e-02, -2.17351272e-04]])"
      ]
     },
     "execution_count": 813,
     "metadata": {},
     "output_type": "execute_result"
    }
   ],
   "source": [
    "lr_balanced.coef_"
   ]
  },
  {
   "cell_type": "code",
   "execution_count": 814,
   "metadata": {},
   "outputs": [
    {
     "data": {
      "text/plain": [
       "[(-0.00021735127159458811, 'Yearly_AVisits_Avg-PM2.5_lvl'),\n",
       " (0.0005316857430980558, 'Yearly_Asthma_EDVisits'),\n",
       " (0.021831238719098534, 'A/Pop_Avg-PM2.5_lvl'),\n",
       " (0.02584791364197506, 'Avg_Days_Over'),\n",
       " (0.22388462254964506, 'PM2.5_Annual_Avg')]"
      ]
     },
     "execution_count": 814,
     "metadata": {},
     "output_type": "execute_result"
    }
   ],
   "source": [
    "coeff_list = list(zip(lr_balanced.coef_.reshape(-1), X_te.columns.values))\n",
    "\n",
    "sorted(coeff_list, key = lambda x: x[0])"
   ]
  },
  {
   "cell_type": "code",
   "execution_count": null,
   "metadata": {},
   "outputs": [],
   "source": [
    "sns.pairplot(train_df, hue='Going?')"
   ]
  },
  {
   "cell_type": "markdown",
   "metadata": {},
   "source": [
    "### After Model Training - Threshold Adjustment to Optimize F1"
   ]
  },
  {
   "cell_type": "code",
   "execution_count": 783,
   "metadata": {},
   "outputs": [
    {
     "name": "stdout",
     "output_type": "stream",
     "text": [
      "Logistic Regression Model best F1 score 0.610 at prob decision threshold >= 0.337\n"
     ]
    },
    {
     "data": {
      "image/png": "[encoded data removed]",
      "text/plain": [
       "<Figure size 432x288 with 1 Axes>"
      ]
     },
     "metadata": {
      "needs_background": "light"
     },
     "output_type": "display_data"
    }
   ],
   "source": [
    "X_val, y_val = X_te, y_te # explicitly calling this validation since we're using it for selection\n",
    "\n",
    "thresh_ps = np.linspace(.10,.50,1000)\n",
    "model_val_probs = lr.predict_proba(X_val)[:,1] # positive class probs, same basic logistic model we fit in section 2 \n",
    "\n",
    "f1_scores = []\n",
    "for p in thresh_ps:\n",
    "    model_val_labels = model_val_probs >= p\n",
    "    f1_scores.append(f1_score(y_val, model_val_labels))\n",
    "    \n",
    "plt.plot(thresh_ps, f1_scores)\n",
    "plt.title('F1 Score vs. Positive Class Decision Probability Threshold')\n",
    "plt.xlabel('P threshold')\n",
    "plt.ylabel('F1 score')\n",
    "\n",
    "best_f1_score = np.max(f1_scores) \n",
    "best_thresh_p = thresh_ps[np.argmax(f1_scores)]\n",
    "\n",
    "print('Logistic Regression Model best F1 score %.3f at prob decision threshold >= %.3f' \n",
    "      % (best_f1_score, best_thresh_p))"
   ]
  },
  {
   "cell_type": "markdown",
   "metadata": {},
   "source": [
    "# RandomForest, DecisionTree, and LinearSVC"
   ]
  },
  {
   "cell_type": "code",
   "execution_count": 785,
   "metadata": {},
   "outputs": [
    {
     "name": "stderr",
     "output_type": "stream",
     "text": [
      "/anaconda3/lib/python3.7/site-packages/sklearn/svm/base.py:922: ConvergenceWarning: Liblinear failed to converge, increase the number of iterations.\n",
      "  \"the number of iterations.\", ConvergenceWarning)\n",
      "/anaconda3/lib/python3.7/site-packages/sklearn/svm/base.py:922: ConvergenceWarning: Liblinear failed to converge, increase the number of iterations.\n",
      "  \"the number of iterations.\", ConvergenceWarning)\n",
      "/anaconda3/lib/python3.7/site-packages/sklearn/svm/base.py:922: ConvergenceWarning: Liblinear failed to converge, increase the number of iterations.\n",
      "  \"the number of iterations.\", ConvergenceWarning)\n",
      "/anaconda3/lib/python3.7/site-packages/sklearn/svm/base.py:922: ConvergenceWarning: Liblinear failed to converge, increase the number of iterations.\n",
      "  \"the number of iterations.\", ConvergenceWarning)\n",
      "/anaconda3/lib/python3.7/site-packages/sklearn/svm/base.py:922: ConvergenceWarning: Liblinear failed to converge, increase the number of iterations.\n",
      "  \"the number of iterations.\", ConvergenceWarning)\n",
      "/anaconda3/lib/python3.7/site-packages/sklearn/svm/base.py:922: ConvergenceWarning: Liblinear failed to converge, increase the number of iterations.\n",
      "  \"the number of iterations.\", ConvergenceWarning)\n",
      "/anaconda3/lib/python3.7/site-packages/sklearn/svm/base.py:922: ConvergenceWarning: Liblinear failed to converge, increase the number of iterations.\n",
      "  \"the number of iterations.\", ConvergenceWarning)\n",
      "/anaconda3/lib/python3.7/site-packages/sklearn/svm/base.py:922: ConvergenceWarning: Liblinear failed to converge, increase the number of iterations.\n",
      "  \"the number of iterations.\", ConvergenceWarning)\n",
      "/anaconda3/lib/python3.7/site-packages/sklearn/svm/base.py:922: ConvergenceWarning: Liblinear failed to converge, increase the number of iterations.\n",
      "  \"the number of iterations.\", ConvergenceWarning)\n",
      "/anaconda3/lib/python3.7/site-packages/sklearn/svm/base.py:922: ConvergenceWarning: Liblinear failed to converge, increase the number of iterations.\n",
      "  \"the number of iterations.\", ConvergenceWarning)\n"
     ]
    },
    {
     "data": {
      "text/plain": [
       "0.6728643216080401"
      ]
     },
     "execution_count": 785,
     "metadata": {},
     "output_type": "execute_result"
    }
   ],
   "source": [
    "def quick_test(model, X, y):\n",
    "    xtrain, xtest, ytrain, ytest = train_test_split(X, y, test_size=0.3)\n",
    "    model.fit(xtrain, ytrain)\n",
    "    return model.score(xtest, ytest)\n",
    "\n",
    "def quick_test_afew_times(model, X, y, n=10):\n",
    "    return np.mean([quick_test(model, X, y) for j in range(n)])\n",
    "\n",
    "linearsvc = LinearSVC()\n",
    "X = new_united10[['Avg_Days_Over', 'PM2.5_Annual_Avg', 'Yearly_AVisits_Avg-PM2.5_lvl', 'Yearly_Asthma_EDVisits', 'A/Pop_Avg-PM2.5_lvl']]\n",
    "y = new_united10['At_Risk']\n",
    "# Do the test 10 times with a LinearSVC and get the average score\n",
    "quick_test_afew_times(linearsvc, X, y)"
   ]
  },
  {
   "cell_type": "code",
   "execution_count": 791,
   "metadata": {},
   "outputs": [
    {
     "data": {
      "text/plain": [
       "0.7208542713567839"
      ]
     },
     "execution_count": 791,
     "metadata": {},
     "output_type": "execute_result"
    }
   ],
   "source": [
    "decisiontree = DecisionTreeClassifier(max_depth=3)\n",
    "quick_test_afew_times(decisiontree, X, y)"
   ]
  },
  {
   "cell_type": "code",
   "execution_count": 787,
   "metadata": {},
   "outputs": [
    {
     "name": "stderr",
     "output_type": "stream",
     "text": [
      "/anaconda3/lib/python3.7/site-packages/sklearn/ensemble/forest.py:246: FutureWarning: The default value of n_estimators will change from 10 in version 0.20 to 100 in 0.22.\n",
      "  \"10 in version 0.20 to 100 in 0.22.\", FutureWarning)\n"
     ]
    },
    {
     "data": {
      "text/plain": [
       "0.7085427135678392"
      ]
     },
     "execution_count": 787,
     "metadata": {},
     "output_type": "execute_result"
    }
   ],
   "source": [
    "randomforest = RandomForestClassifier()\n",
    "quick_test_afew_times(randomforest, X, y)"
   ]
  },
  {
   "cell_type": "markdown",
   "metadata": {},
   "source": [
    "# Xgboost"
   ]
  },
  {
   "cell_type": "code",
   "execution_count": null,
   "metadata": {},
   "outputs": [],
   "source": [
    "def rmse(actuals, preds):\n",
    "    return np.sqrt(((actuals - preds) ** 2).mean())\n",
    "X_train, X_val, y_train, y_val = train_test_split(X_train, y_train, test_size=0.25, random_state=2019)"
   ]
  },
  {
   "cell_type": "code",
   "execution_count": null,
   "metadata": {},
   "outputs": [],
   "source": [
    "gbm = xgb.XGBRegressor( \n",
    "                       n_estimators=30000, #arbitrary large number\n",
    "                       max_depth=3,\n",
    "                       objective=\"reg:linear\",\n",
    "                       learning_rate=.1, \n",
    "                       subsample=1,\n",
    "                       min_child_weight=1,\n",
    "                       colsample_bytree=.8\n",
    "                      )\n",
    "\n",
    "eval_set=[(X_train,y_train),(X_val,y_val)] #tracking train/validation error as we go\n",
    "fit_model = gbm.fit( \n",
    "                    X_train, y_train, \n",
    "                    eval_set=eval_set,\n",
    "                    eval_metric='rmse',\n",
    "                    early_stopping_rounds=20,\n",
    "                    verbose=True #gives output log as below\n",
    "                   )"
   ]
  },
  {
   "cell_type": "code",
   "execution_count": null,
   "metadata": {},
   "outputs": [],
   "source": [
    "rmse(gbm.predict(X_test, ntree_limit=gbm.best_ntree_limit),y_test) "
   ]
  },
  {
   "cell_type": "code",
   "execution_count": null,
   "metadata": {},
   "outputs": [],
   "source": [
    "rmse(gbm.predict(X_val, ntree_limit=gbm.best_ntree_limit),y_val) "
   ]
  },
  {
   "cell_type": "markdown",
   "metadata": {},
   "source": [
    "# What is PM2.5 and Why You Should Care (Facts and Notes)\n",
    "\n",
    "* PM2.5 refers to atmospheric particulate matter (PM) that have a diameter of less than 2.5 micrometers, which is about 3% the diameter of a human hair.\n",
    "\n",
    "* can only be detected with an electron microscope\n",
    "\n",
    "* They are even smaller than their counterparts PM10, which are particles that are 10 micrometres or less, and are also called fine particles.\n",
    "\n",
    "* Some are emitted directly into the air, while others are formed when gases and particles interact with one another in the atmosphere.\n",
    "\n",
    "* For instance, gaseous sulfur dioxide emitted from power plants reacts with oxygen and water droplets in the air to form sulfuric acid as a secondary particle.\n",
    "\n",
    "* Since they are so small and light, fine particles tend to stay longer in the air than heavier particles. This increases the chances of humans and animals inhaling them into the bodies. Owing to their minute size, particles smaller than 2.5 micrometers are able to bypass the nose and throat and penetrate deep into the lungs and some may even enter the circulatory system.\n",
    "\n",
    "* Studies have found a close link between exposure to fine particles and premature death from heart and lung disease. Fine particles are also known to trigger or worsen chronic disease such as asthma, heart attack, bronchitis and other respiratory problems.\n",
    "\n",
    "* long-term exposure to PM2.5 may lead to plaque deposits in arteries, causing vascular inflammation\n",
    "\n",
    "* a hardening of the arteries which can eventually lead to heart attack and stroke\n",
    "\n",
    "* study estimated that for every 10 micrograms per cubic meter (μg/m3) increase in fine particulate air pollution, there is an associated 4%, 6% and 8% increased risk of all-cause, cardiopulmonary and lung cancer mortality, respectively.\n",
    "\n",
    ">>“Exposure to PM <2.5 μm in diameter (PM2.5) over a few hours to weeks can trigger cardiovascular disease-related mortality and nonfatal events; longer-term exposure (eg, a few years) increases the risk for cardiovascular mortality to an even greater extent than exposures over a few days and reduces life expectancy within more highly exposed segments of the population by several months to a few years.”\n",
    "\n",
    "* An association between mothers’ exposure to fine particles and birth defects has also been established by several reports.\n",
    "\n",
    "### How to Read PM_2.5\n",
    "\n",
    "* On a very clear and non-hazy day, the PM2.5 concentration can be as low as 5 μg/m3 or below. The 24-hour concentration of PM2.5 is considered unhealthy when it rises above 35.4 μg/m3.\n",
    "\n",
    "* the potential damage caused by air pollutants depends not just on the concentration, but also on the duration of exposure. The longer you are exposed to PM2.5, the higher the risk of developing adverse effects caused by the exposure."
   ]
  },
  {
   "cell_type": "markdown",
   "metadata": {},
   "source": [
    "## Measure Names\n",
    "\n",
    "1- 'Number of days with maximum 8-hour average ozone concentration over the National Ambient Air Quality Standard'\n",
    "\n",
    "2- 'Number of person-days with maximum 8-hour average ozone concentration over the National Ambient Air Quality Standard'\n",
    "\n",
    "3- 'Person-days with PM2.5 over the National Ambient Air Quality Standard'\n",
    "\n",
    "4- 'Percent of days with PM2.5 levels over the National Ambient Air Quality Standard (NAAQS)'\n",
    "\n",
    "5- 'Annual average ambient concentrations of PM2.5 in micrograms per cubic meter (based on seasonal averages and daily measurement)'\n",
    "\n",
    "6- 'Number of days with maximum 8-hour average ozone concentration over the National Ambient Air Quality Standard (monitor and modeled data)'\n",
    "\n",
    "7- 'Number of person-days with maximum 8-hour average ozone concentration over the National Ambient Air Quality Standard (monitor and modeled data)\n",
    "\n",
    "8- 'Percent of days with PM2.5 levels over the National Ambient Air Quality Standard (monitor and modeled data)\n",
    "\n",
    "9- 'Number of person-days with PM2.5 over the National Ambient Air Quality Standard (monitor and modeled data)'\n",
    "\n",
    "10 'Annual average ambient concentrations of PM 2.5 in micrograms per cubic meter, based on seasonal averages and daily measurement (monitor and modeled data)'\n",
    "\n",
    "#### 8 hour info\n",
    "\n",
    "https://www3.epa.gov/region1/airquality/avg8hr.html"
   ]
  },
  {
   "cell_type": "markdown",
   "metadata": {},
   "source": [
    "# Source\n",
    "\n",
    "https://data.cdc.gov/Environmental-Health-Toxicology/Air-Quality-Measures-on-the-National-Environmental/cjae-szjv\n",
    "\n",
    "Air Quality Measures on the National Environmental Health Tracking Network\n",
    "\n",
    "https://apps.health.ny.gov/statistics/environmental/public_health_tracking/tracker/index.html#/asthmaExportData\n",
    "\n",
    "NYS Department of Health (Export Asthma Data)"
   ]
  },
  {
   "cell_type": "markdown",
   "metadata": {},
   "source": [
    "# Asthma\n",
    "\n",
    "* Most costly chronis diseases. $50 billion annually in direct medical expenditures in the United States\n"
   ]
  }
 ],
 "metadata": {
  "kernelspec": {
   "display_name": "Python 3",
   "language": "python",
   "name": "python3"
  },
  "language_info": {
   "codemirror_mode": {
    "name": "ipython",
    "version": 3
   },
   "file_extension": ".py",
   "mimetype": "text/x-python",
   "name": "python",
   "nbconvert_exporter": "python",
   "pygments_lexer": "ipython3",
   "version": "3.7.3"
  }
 },
 "nbformat": 4,
 "nbformat_minor": 2
}
